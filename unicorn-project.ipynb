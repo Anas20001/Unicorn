{
 "cells": [
  {
   "cell_type": "markdown",
   "id": "c8fefc30",
   "metadata": {
    "id": "XRrgB-oQBFc3",
    "papermill": {
     "duration": 0.030835,
     "end_time": "2022-04-21T18:21:35.069202",
     "exception": false,
     "start_time": "2022-04-21T18:21:35.038367",
     "status": "completed"
    },
    "tags": []
   },
   "source": [
    "## Libraries"
   ]
  },
  {
   "cell_type": "code",
   "execution_count": 1,
   "id": "9b4f49ec",
   "metadata": {
    "execution": {
     "iopub.execute_input": "2022-04-21T18:21:35.136726Z",
     "iopub.status.busy": "2022-04-21T18:21:35.136158Z",
     "iopub.status.idle": "2022-04-21T18:21:36.590307Z",
     "shell.execute_reply": "2022-04-21T18:21:36.589292Z"
    },
    "id": "wsAJ0k9snxbz",
    "papermill": {
     "duration": 1.488639,
     "end_time": "2022-04-21T18:21:36.593413",
     "exception": false,
     "start_time": "2022-04-21T18:21:35.104774",
     "status": "completed"
    },
    "tags": []
   },
   "outputs": [],
   "source": [
    "import pandas as pd\n",
    "import numpy as np \n",
    "import plotly.express as px\n",
    "import matplotlib.pyplot as plt\n",
    "\n"
   ]
  },
  {
   "cell_type": "code",
   "execution_count": 2,
   "id": "34ada37c",
   "metadata": {
    "execution": {
     "iopub.execute_input": "2022-04-21T18:21:36.648078Z",
     "iopub.status.busy": "2022-04-21T18:21:36.647606Z",
     "iopub.status.idle": "2022-04-21T18:21:36.672302Z",
     "shell.execute_reply": "2022-04-21T18:21:36.671559Z"
    },
    "id": "OZjI1iMLnbV3",
    "papermill": {
     "duration": 0.054318,
     "end_time": "2022-04-21T18:21:36.674434",
     "exception": false,
     "start_time": "2022-04-21T18:21:36.620116",
     "status": "completed"
    },
    "tags": []
   },
   "outputs": [],
   "source": [
    "uc = pd.read_csv(\"../input/unicorn-datasets/Unicorn_Companies.csv\")"
   ]
  },
  {
   "cell_type": "code",
   "execution_count": 3,
   "id": "ebbfc018",
   "metadata": {
    "execution": {
     "iopub.execute_input": "2022-04-21T18:21:36.728005Z",
     "iopub.status.busy": "2022-04-21T18:21:36.727598Z",
     "iopub.status.idle": "2022-04-21T18:21:36.749164Z",
     "shell.execute_reply": "2022-04-21T18:21:36.748342Z"
    },
    "id": "fiGyU1Nfn-6N",
    "outputId": "62af0ace-12fd-49ad-ad91-8b74ed778ba0",
    "papermill": {
     "duration": 0.051129,
     "end_time": "2022-04-21T18:21:36.751766",
     "exception": false,
     "start_time": "2022-04-21T18:21:36.700637",
     "status": "completed"
    },
    "tags": []
   },
   "outputs": [
    {
     "data": {
      "text/html": [
       "<div>\n",
       "<style scoped>\n",
       "    .dataframe tbody tr th:only-of-type {\n",
       "        vertical-align: middle;\n",
       "    }\n",
       "\n",
       "    .dataframe tbody tr th {\n",
       "        vertical-align: top;\n",
       "    }\n",
       "\n",
       "    .dataframe thead th {\n",
       "        text-align: right;\n",
       "    }\n",
       "</style>\n",
       "<table border=\"1\" class=\"dataframe\">\n",
       "  <thead>\n",
       "    <tr style=\"text-align: right;\">\n",
       "      <th></th>\n",
       "      <th>Company</th>\n",
       "      <th>Valuation</th>\n",
       "      <th>Date Joined</th>\n",
       "      <th>Industry</th>\n",
       "      <th>City</th>\n",
       "      <th>Country</th>\n",
       "      <th>Continent</th>\n",
       "      <th>Year Founded</th>\n",
       "      <th>Funding</th>\n",
       "      <th>Select Investors</th>\n",
       "    </tr>\n",
       "  </thead>\n",
       "  <tbody>\n",
       "    <tr>\n",
       "      <th>0</th>\n",
       "      <td>Bytedance</td>\n",
       "      <td>$180B</td>\n",
       "      <td>2017-04-07</td>\n",
       "      <td>Artificial intelligence</td>\n",
       "      <td>Beijing</td>\n",
       "      <td>China</td>\n",
       "      <td>Asia</td>\n",
       "      <td>2012</td>\n",
       "      <td>$8B</td>\n",
       "      <td>Sequoia Capital China, SIG Asia Investments, S...</td>\n",
       "    </tr>\n",
       "    <tr>\n",
       "      <th>1</th>\n",
       "      <td>SpaceX</td>\n",
       "      <td>$100B</td>\n",
       "      <td>2012-12-01</td>\n",
       "      <td>Other</td>\n",
       "      <td>Hawthorne</td>\n",
       "      <td>United States</td>\n",
       "      <td>North America</td>\n",
       "      <td>2002</td>\n",
       "      <td>$7B</td>\n",
       "      <td>Founders Fund, Draper Fisher Jurvetson, Rothen...</td>\n",
       "    </tr>\n",
       "    <tr>\n",
       "      <th>2</th>\n",
       "      <td>SHEIN</td>\n",
       "      <td>$100B</td>\n",
       "      <td>2018-07-03</td>\n",
       "      <td>E-commerce &amp; direct-to-consumer</td>\n",
       "      <td>Shenzhen</td>\n",
       "      <td>China</td>\n",
       "      <td>Asia</td>\n",
       "      <td>2008</td>\n",
       "      <td>$2B</td>\n",
       "      <td>Tiger Global Management, Sequoia Capital China...</td>\n",
       "    </tr>\n",
       "    <tr>\n",
       "      <th>3</th>\n",
       "      <td>Stripe</td>\n",
       "      <td>$95B</td>\n",
       "      <td>2014-01-23</td>\n",
       "      <td>Fintech</td>\n",
       "      <td>San Francisco</td>\n",
       "      <td>United States</td>\n",
       "      <td>North America</td>\n",
       "      <td>2010</td>\n",
       "      <td>$2B</td>\n",
       "      <td>Khosla Ventures, LowercaseCapital, capitalG</td>\n",
       "    </tr>\n",
       "    <tr>\n",
       "      <th>4</th>\n",
       "      <td>Klarna</td>\n",
       "      <td>$46B</td>\n",
       "      <td>2011-12-12</td>\n",
       "      <td>Fintech</td>\n",
       "      <td>Stockholm</td>\n",
       "      <td>Sweden</td>\n",
       "      <td>Europe</td>\n",
       "      <td>2005</td>\n",
       "      <td>$4B</td>\n",
       "      <td>Institutional Venture Partners, Sequoia Capita...</td>\n",
       "    </tr>\n",
       "  </tbody>\n",
       "</table>\n",
       "</div>"
      ],
      "text/plain": [
       "     Company Valuation Date Joined                         Industry  \\\n",
       "0  Bytedance     $180B  2017-04-07          Artificial intelligence   \n",
       "1     SpaceX     $100B  2012-12-01                            Other   \n",
       "2      SHEIN     $100B  2018-07-03  E-commerce & direct-to-consumer   \n",
       "3     Stripe      $95B  2014-01-23                          Fintech   \n",
       "4     Klarna      $46B  2011-12-12                          Fintech   \n",
       "\n",
       "            City        Country      Continent  Year Founded Funding  \\\n",
       "0        Beijing          China           Asia          2012     $8B   \n",
       "1      Hawthorne  United States  North America          2002     $7B   \n",
       "2       Shenzhen          China           Asia          2008     $2B   \n",
       "3  San Francisco  United States  North America          2010     $2B   \n",
       "4      Stockholm         Sweden         Europe          2005     $4B   \n",
       "\n",
       "                                    Select Investors  \n",
       "0  Sequoia Capital China, SIG Asia Investments, S...  \n",
       "1  Founders Fund, Draper Fisher Jurvetson, Rothen...  \n",
       "2  Tiger Global Management, Sequoia Capital China...  \n",
       "3        Khosla Ventures, LowercaseCapital, capitalG  \n",
       "4  Institutional Venture Partners, Sequoia Capita...  "
      ]
     },
     "execution_count": 3,
     "metadata": {},
     "output_type": "execute_result"
    }
   ],
   "source": [
    "uc.head()"
   ]
  },
  {
   "cell_type": "code",
   "execution_count": 4,
   "id": "e2c99765",
   "metadata": {
    "execution": {
     "iopub.execute_input": "2022-04-21T18:21:36.809979Z",
     "iopub.status.busy": "2022-04-21T18:21:36.809576Z",
     "iopub.status.idle": "2022-04-21T18:21:36.828343Z",
     "shell.execute_reply": "2022-04-21T18:21:36.827534Z"
    },
    "id": "izGrst8zT0sF",
    "outputId": "a97e6253-23a4-49c5-b5dd-395777519d97",
    "papermill": {
     "duration": 0.050064,
     "end_time": "2022-04-21T18:21:36.830361",
     "exception": false,
     "start_time": "2022-04-21T18:21:36.780297",
     "status": "completed"
    },
    "tags": []
   },
   "outputs": [
    {
     "data": {
      "text/html": [
       "<div>\n",
       "<style scoped>\n",
       "    .dataframe tbody tr th:only-of-type {\n",
       "        vertical-align: middle;\n",
       "    }\n",
       "\n",
       "    .dataframe tbody tr th {\n",
       "        vertical-align: top;\n",
       "    }\n",
       "\n",
       "    .dataframe thead th {\n",
       "        text-align: right;\n",
       "    }\n",
       "</style>\n",
       "<table border=\"1\" class=\"dataframe\">\n",
       "  <thead>\n",
       "    <tr style=\"text-align: right;\">\n",
       "      <th></th>\n",
       "      <th>Company</th>\n",
       "      <th>Valuation</th>\n",
       "      <th>Date Joined</th>\n",
       "      <th>Industry</th>\n",
       "      <th>City</th>\n",
       "      <th>Country</th>\n",
       "      <th>Continent</th>\n",
       "      <th>Year Founded</th>\n",
       "      <th>Funding</th>\n",
       "      <th>Select Investors</th>\n",
       "    </tr>\n",
       "  </thead>\n",
       "  <tbody>\n",
       "    <tr>\n",
       "      <th>792</th>\n",
       "      <td>Workhuman</td>\n",
       "      <td>$1B</td>\n",
       "      <td>2020-06-23</td>\n",
       "      <td>Internet software &amp; services</td>\n",
       "      <td>Dublin</td>\n",
       "      <td>Ireland</td>\n",
       "      <td>Europe</td>\n",
       "      <td>1999</td>\n",
       "      <td>$9M</td>\n",
       "      <td>ICG</td>\n",
       "    </tr>\n",
       "  </tbody>\n",
       "</table>\n",
       "</div>"
      ],
      "text/plain": [
       "       Company Valuation Date Joined                      Industry    City  \\\n",
       "792  Workhuman       $1B  2020-06-23  Internet software & services  Dublin   \n",
       "\n",
       "     Country Continent  Year Founded Funding Select Investors  \n",
       "792  Ireland    Europe          1999     $9M              ICG  "
      ]
     },
     "execution_count": 4,
     "metadata": {},
     "output_type": "execute_result"
    }
   ],
   "source": [
    "uc[uc.Company == 'Workhuman']"
   ]
  },
  {
   "cell_type": "code",
   "execution_count": 5,
   "id": "3970546b",
   "metadata": {
    "execution": {
     "iopub.execute_input": "2022-04-21T18:21:36.885922Z",
     "iopub.status.busy": "2022-04-21T18:21:36.885120Z",
     "iopub.status.idle": "2022-04-21T18:21:36.891133Z",
     "shell.execute_reply": "2022-04-21T18:21:36.890330Z"
    },
    "id": "7ehI17aQN2dM",
    "outputId": "e4ce7628-da32-410c-c292-1112b7f68644",
    "papermill": {
     "duration": 0.035748,
     "end_time": "2022-04-21T18:21:36.892828",
     "exception": false,
     "start_time": "2022-04-21T18:21:36.857080",
     "status": "completed"
    },
    "tags": []
   },
   "outputs": [
    {
     "data": {
      "text/plain": [
       "1074"
      ]
     },
     "execution_count": 5,
     "metadata": {},
     "output_type": "execute_result"
    }
   ],
   "source": [
    "len(uc.Funding)"
   ]
  },
  {
   "cell_type": "code",
   "execution_count": 6,
   "id": "e2a8c7a2",
   "metadata": {
    "execution": {
     "iopub.execute_input": "2022-04-21T18:21:36.951413Z",
     "iopub.status.busy": "2022-04-21T18:21:36.950976Z",
     "iopub.status.idle": "2022-04-21T18:21:36.964260Z",
     "shell.execute_reply": "2022-04-21T18:21:36.963467Z"
    },
    "id": "9cTmLq2voAi5",
    "papermill": {
     "duration": 0.04465,
     "end_time": "2022-04-21T18:21:36.966389",
     "exception": false,
     "start_time": "2022-04-21T18:21:36.921739",
     "status": "completed"
    },
    "tags": []
   },
   "outputs": [],
   "source": [
    "dd = pd.read_csv(\"../input/unicorn-datasets/Data_Dictionary.csv\") # description for every column in (uc) dataframe"
   ]
  },
  {
   "cell_type": "code",
   "execution_count": 7,
   "id": "5b20ae78",
   "metadata": {
    "execution": {
     "iopub.execute_input": "2022-04-21T18:21:37.024724Z",
     "iopub.status.busy": "2022-04-21T18:21:37.024175Z",
     "iopub.status.idle": "2022-04-21T18:21:37.033124Z",
     "shell.execute_reply": "2022-04-21T18:21:37.032480Z"
    },
    "id": "x4e-m7wBooEJ",
    "outputId": "22f85f8e-f7c5-4fe0-e0b9-69cd36119871",
    "papermill": {
     "duration": 0.039287,
     "end_time": "2022-04-21T18:21:37.034928",
     "exception": false,
     "start_time": "2022-04-21T18:21:36.995641",
     "status": "completed"
    },
    "tags": []
   },
   "outputs": [
    {
     "data": {
      "text/html": [
       "<div>\n",
       "<style scoped>\n",
       "    .dataframe tbody tr th:only-of-type {\n",
       "        vertical-align: middle;\n",
       "    }\n",
       "\n",
       "    .dataframe tbody tr th {\n",
       "        vertical-align: top;\n",
       "    }\n",
       "\n",
       "    .dataframe thead th {\n",
       "        text-align: right;\n",
       "    }\n",
       "</style>\n",
       "<table border=\"1\" class=\"dataframe\">\n",
       "  <thead>\n",
       "    <tr style=\"text-align: right;\">\n",
       "      <th></th>\n",
       "      <th>Field</th>\n",
       "      <th>Description</th>\n",
       "    </tr>\n",
       "  </thead>\n",
       "  <tbody>\n",
       "    <tr>\n",
       "      <th>0</th>\n",
       "      <td>Company</td>\n",
       "      <td>Company name</td>\n",
       "    </tr>\n",
       "    <tr>\n",
       "      <th>1</th>\n",
       "      <td>Valuation</td>\n",
       "      <td>Company valuation in billions (B) of dollars</td>\n",
       "    </tr>\n",
       "    <tr>\n",
       "      <th>2</th>\n",
       "      <td>Date Joined</td>\n",
       "      <td>The date in which the company reached $1 billi...</td>\n",
       "    </tr>\n",
       "    <tr>\n",
       "      <th>3</th>\n",
       "      <td>Industry</td>\n",
       "      <td>Company industry</td>\n",
       "    </tr>\n",
       "    <tr>\n",
       "      <th>4</th>\n",
       "      <td>City</td>\n",
       "      <td>City the company was founded in</td>\n",
       "    </tr>\n",
       "  </tbody>\n",
       "</table>\n",
       "</div>"
      ],
      "text/plain": [
       "         Field                                        Description\n",
       "0      Company                                       Company name\n",
       "1    Valuation       Company valuation in billions (B) of dollars\n",
       "2  Date Joined  The date in which the company reached $1 billi...\n",
       "3     Industry                                   Company industry\n",
       "4         City                    City the company was founded in"
      ]
     },
     "execution_count": 7,
     "metadata": {},
     "output_type": "execute_result"
    }
   ],
   "source": [
    "dd.head()"
   ]
  },
  {
   "cell_type": "markdown",
   "id": "62226660",
   "metadata": {
    "id": "KhsoW-ympPS0",
    "papermill": {
     "duration": 0.027695,
     "end_time": "2022-04-21T18:21:37.089711",
     "exception": false,
     "start_time": "2022-04-21T18:21:37.062016",
     "status": "completed"
    },
    "tags": []
   },
   "source": [
    "## Let's start cleaning some data 🧹"
   ]
  },
  {
   "cell_type": "code",
   "execution_count": 8,
   "id": "d77d5021",
   "metadata": {
    "execution": {
     "iopub.execute_input": "2022-04-21T18:21:37.146164Z",
     "iopub.status.busy": "2022-04-21T18:21:37.145923Z",
     "iopub.status.idle": "2022-04-21T18:21:37.168067Z",
     "shell.execute_reply": "2022-04-21T18:21:37.167142Z"
    },
    "id": "f-8Z-wJDopG1",
    "outputId": "721173a0-59a7-4e5b-ae86-f43923b61cac",
    "papermill": {
     "duration": 0.053755,
     "end_time": "2022-04-21T18:21:37.171331",
     "exception": false,
     "start_time": "2022-04-21T18:21:37.117576",
     "status": "completed"
    },
    "tags": []
   },
   "outputs": [
    {
     "name": "stdout",
     "output_type": "stream",
     "text": [
      "<class 'pandas.core.frame.DataFrame'>\n",
      "RangeIndex: 1074 entries, 0 to 1073\n",
      "Data columns (total 10 columns):\n",
      " #   Column            Non-Null Count  Dtype \n",
      "---  ------            --------------  ----- \n",
      " 0   Company           1074 non-null   object\n",
      " 1   Valuation         1074 non-null   object\n",
      " 2   Date Joined       1074 non-null   object\n",
      " 3   Industry          1074 non-null   object\n",
      " 4   City              1058 non-null   object\n",
      " 5   Country           1074 non-null   object\n",
      " 6   Continent         1074 non-null   object\n",
      " 7   Year Founded      1074 non-null   int64 \n",
      " 8   Funding           1074 non-null   object\n",
      " 9   Select Investors  1073 non-null   object\n",
      "dtypes: int64(1), object(9)\n",
      "memory usage: 84.0+ KB\n"
     ]
    }
   ],
   "source": [
    "uc.info()"
   ]
  },
  {
   "cell_type": "code",
   "execution_count": 9,
   "id": "4745672a",
   "metadata": {
    "execution": {
     "iopub.execute_input": "2022-04-21T18:21:37.230812Z",
     "iopub.status.busy": "2022-04-21T18:21:37.230395Z",
     "iopub.status.idle": "2022-04-21T18:21:37.235956Z",
     "shell.execute_reply": "2022-04-21T18:21:37.235285Z"
    },
    "id": "TsdhB23NqFAP",
    "outputId": "d776911d-673c-43e8-c03c-0a1144dafaa7",
    "papermill": {
     "duration": 0.036893,
     "end_time": "2022-04-21T18:21:37.237692",
     "exception": false,
     "start_time": "2022-04-21T18:21:37.200799",
     "status": "completed"
    },
    "tags": []
   },
   "outputs": [
    {
     "data": {
      "text/plain": [
       "Index(['Company', 'Valuation', 'Date Joined', 'Industry', 'City', 'Country',\n",
       "       'Continent', 'Year Founded', 'Funding', 'Select Investors'],\n",
       "      dtype='object')"
      ]
     },
     "execution_count": 9,
     "metadata": {},
     "output_type": "execute_result"
    }
   ],
   "source": [
    "uc.columns"
   ]
  },
  {
   "cell_type": "markdown",
   "id": "e584b822",
   "metadata": {
    "id": "dx0IAQd9ptIH",
    "papermill": {
     "duration": 0.02881,
     "end_time": "2022-04-21T18:21:37.294964",
     "exception": false,
     "start_time": "2022-04-21T18:21:37.266154",
     "status": "completed"
    },
    "tags": []
   },
   "source": [
    "> We need to wrangle both \"Valuation\" and \"Funding\" columns to integers "
   ]
  },
  {
   "cell_type": "code",
   "execution_count": 10,
   "id": "335f6780",
   "metadata": {
    "execution": {
     "iopub.execute_input": "2022-04-21T18:21:37.352169Z",
     "iopub.status.busy": "2022-04-21T18:21:37.351886Z",
     "iopub.status.idle": "2022-04-21T18:21:37.364163Z",
     "shell.execute_reply": "2022-04-21T18:21:37.363142Z"
    },
    "id": "TxK8J1VNpjT4",
    "papermill": {
     "duration": 0.04358,
     "end_time": "2022-04-21T18:21:37.366129",
     "exception": false,
     "start_time": "2022-04-21T18:21:37.322549",
     "status": "completed"
    },
    "tags": []
   },
   "outputs": [],
   "source": [
    "uc['Valuation'] = uc['Valuation'].astype(\"string\")    \n",
    "\n",
    "uc['Funding'] = uc['Funding'].astype(\"string\") \n",
    "\n",
    "uc['Valuation'] = uc.Valuation.str.extract('(\\d+)')\n",
    "\n",
    "uc['Funding'] = uc.Funding.str.extract('(\\d+)')"
   ]
  },
  {
   "cell_type": "code",
   "execution_count": 11,
   "id": "f005d054",
   "metadata": {
    "execution": {
     "iopub.execute_input": "2022-04-21T18:21:37.423343Z",
     "iopub.status.busy": "2022-04-21T18:21:37.423053Z",
     "iopub.status.idle": "2022-04-21T18:21:37.430042Z",
     "shell.execute_reply": "2022-04-21T18:21:37.429060Z"
    },
    "id": "l4IZJrSarTqX",
    "papermill": {
     "duration": 0.037997,
     "end_time": "2022-04-21T18:21:37.431953",
     "exception": false,
     "start_time": "2022-04-21T18:21:37.393956",
     "status": "completed"
    },
    "tags": []
   },
   "outputs": [],
   "source": [
    "uc['Valuation'] = uc.Valuation.astype(\"float\")\n",
    "\n",
    "uc['Funding'] = pd.to_numeric(uc.Funding)\n"
   ]
  },
  {
   "cell_type": "code",
   "execution_count": 12,
   "id": "e8e52554",
   "metadata": {
    "execution": {
     "iopub.execute_input": "2022-04-21T18:21:37.490630Z",
     "iopub.status.busy": "2022-04-21T18:21:37.489798Z",
     "iopub.status.idle": "2022-04-21T18:21:37.499825Z",
     "shell.execute_reply": "2022-04-21T18:21:37.499258Z"
    },
    "id": "oBbR2pu1wrGb",
    "papermill": {
     "duration": 0.041927,
     "end_time": "2022-04-21T18:21:37.501876",
     "exception": false,
     "start_time": "2022-04-21T18:21:37.459949",
     "status": "completed"
    },
    "tags": []
   },
   "outputs": [],
   "source": [
    "uc['Year Founded'] = pd.to_datetime(uc['Year Founded'])\n",
    "uc['Date Joined'] = pd.to_datetime(uc['Date Joined'])"
   ]
  },
  {
   "cell_type": "code",
   "execution_count": 13,
   "id": "2850327a",
   "metadata": {
    "execution": {
     "iopub.execute_input": "2022-04-21T18:21:37.559103Z",
     "iopub.status.busy": "2022-04-21T18:21:37.558687Z",
     "iopub.status.idle": "2022-04-21T18:21:37.571125Z",
     "shell.execute_reply": "2022-04-21T18:21:37.570194Z"
    },
    "id": "lYirkQy8rldb",
    "outputId": "b6835034-c33c-46c2-8c30-140fbdc7a936",
    "papermill": {
     "duration": 0.044259,
     "end_time": "2022-04-21T18:21:37.573800",
     "exception": false,
     "start_time": "2022-04-21T18:21:37.529541",
     "status": "completed"
    },
    "tags": []
   },
   "outputs": [
    {
     "name": "stdout",
     "output_type": "stream",
     "text": [
      "<class 'pandas.core.frame.DataFrame'>\n",
      "RangeIndex: 1074 entries, 0 to 1073\n",
      "Data columns (total 10 columns):\n",
      " #   Column            Non-Null Count  Dtype         \n",
      "---  ------            --------------  -----         \n",
      " 0   Company           1074 non-null   object        \n",
      " 1   Valuation         1074 non-null   float64       \n",
      " 2   Date Joined       1074 non-null   datetime64[ns]\n",
      " 3   Industry          1074 non-null   object        \n",
      " 4   City              1058 non-null   object        \n",
      " 5   Country           1074 non-null   object        \n",
      " 6   Continent         1074 non-null   object        \n",
      " 7   Year Founded      1074 non-null   datetime64[ns]\n",
      " 8   Funding           1062 non-null   float64       \n",
      " 9   Select Investors  1073 non-null   object        \n",
      "dtypes: datetime64[ns](2), float64(2), object(6)\n",
      "memory usage: 84.0+ KB\n"
     ]
    }
   ],
   "source": [
    "uc.info()"
   ]
  },
  {
   "cell_type": "code",
   "execution_count": 14,
   "id": "d0c97b5f",
   "metadata": {
    "execution": {
     "iopub.execute_input": "2022-04-21T18:21:37.633390Z",
     "iopub.status.busy": "2022-04-21T18:21:37.632824Z",
     "iopub.status.idle": "2022-04-21T18:21:37.650264Z",
     "shell.execute_reply": "2022-04-21T18:21:37.649605Z"
    },
    "id": "b2scBnGXsR8P",
    "outputId": "444dceb9-c609-4d0b-9d80-268de3ce3be4",
    "papermill": {
     "duration": 0.048405,
     "end_time": "2022-04-21T18:21:37.651894",
     "exception": false,
     "start_time": "2022-04-21T18:21:37.603489",
     "status": "completed"
    },
    "tags": []
   },
   "outputs": [
    {
     "data": {
      "text/html": [
       "<div>\n",
       "<style scoped>\n",
       "    .dataframe tbody tr th:only-of-type {\n",
       "        vertical-align: middle;\n",
       "    }\n",
       "\n",
       "    .dataframe tbody tr th {\n",
       "        vertical-align: top;\n",
       "    }\n",
       "\n",
       "    .dataframe thead th {\n",
       "        text-align: right;\n",
       "    }\n",
       "</style>\n",
       "<table border=\"1\" class=\"dataframe\">\n",
       "  <thead>\n",
       "    <tr style=\"text-align: right;\">\n",
       "      <th></th>\n",
       "      <th>Valuation</th>\n",
       "      <th>Funding</th>\n",
       "    </tr>\n",
       "  </thead>\n",
       "  <tbody>\n",
       "    <tr>\n",
       "      <th>count</th>\n",
       "      <td>1074.000000</td>\n",
       "      <td>1062.000000</td>\n",
       "    </tr>\n",
       "    <tr>\n",
       "      <th>mean</th>\n",
       "      <td>3.455307</td>\n",
       "      <td>338.091337</td>\n",
       "    </tr>\n",
       "    <tr>\n",
       "      <th>std</th>\n",
       "      <td>8.547022</td>\n",
       "      <td>237.333149</td>\n",
       "    </tr>\n",
       "    <tr>\n",
       "      <th>min</th>\n",
       "      <td>1.000000</td>\n",
       "      <td>0.000000</td>\n",
       "    </tr>\n",
       "    <tr>\n",
       "      <th>25%</th>\n",
       "      <td>1.000000</td>\n",
       "      <td>166.000000</td>\n",
       "    </tr>\n",
       "    <tr>\n",
       "      <th>50%</th>\n",
       "      <td>2.000000</td>\n",
       "      <td>300.000000</td>\n",
       "    </tr>\n",
       "    <tr>\n",
       "      <th>75%</th>\n",
       "      <td>3.000000</td>\n",
       "      <td>491.500000</td>\n",
       "    </tr>\n",
       "    <tr>\n",
       "      <th>max</th>\n",
       "      <td>180.000000</td>\n",
       "      <td>999.000000</td>\n",
       "    </tr>\n",
       "  </tbody>\n",
       "</table>\n",
       "</div>"
      ],
      "text/plain": [
       "         Valuation      Funding\n",
       "count  1074.000000  1062.000000\n",
       "mean      3.455307   338.091337\n",
       "std       8.547022   237.333149\n",
       "min       1.000000     0.000000\n",
       "25%       1.000000   166.000000\n",
       "50%       2.000000   300.000000\n",
       "75%       3.000000   491.500000\n",
       "max     180.000000   999.000000"
      ]
     },
     "execution_count": 14,
     "metadata": {},
     "output_type": "execute_result"
    }
   ],
   "source": [
    "uc.describe()"
   ]
  },
  {
   "cell_type": "code",
   "execution_count": 15,
   "id": "cb0aa069",
   "metadata": {
    "execution": {
     "iopub.execute_input": "2022-04-21T18:21:37.713490Z",
     "iopub.status.busy": "2022-04-21T18:21:37.712990Z",
     "iopub.status.idle": "2022-04-21T18:21:37.719292Z",
     "shell.execute_reply": "2022-04-21T18:21:37.718702Z"
    },
    "id": "Pc9IqPrMyTCx",
    "outputId": "4743663d-72fb-474b-b4f8-ace8f9b1f911",
    "papermill": {
     "duration": 0.038078,
     "end_time": "2022-04-21T18:21:37.720890",
     "exception": false,
     "start_time": "2022-04-21T18:21:37.682812",
     "status": "completed"
    },
    "tags": []
   },
   "outputs": [
    {
     "data": {
      "text/plain": [
       "Fintech                                224\n",
       "Internet software & services           205\n",
       "E-commerce & direct-to-consumer        111\n",
       "Health                                  74\n",
       "Artificial intelligence                 73\n",
       "Other                                   58\n",
       "Supply chain, logistics, & delivery     57\n",
       "Cybersecurity                           50\n",
       "Data management & analytics             41\n",
       "Mobile & telecommunications             38\n",
       "Hardware                                34\n",
       "Auto & transportation                   31\n",
       "Edtech                                  28\n",
       "Consumer & retail                       25\n",
       "Travel                                  14\n",
       "Artificial Intelligence                 11\n",
       "Name: Industry, dtype: int64"
      ]
     },
     "execution_count": 15,
     "metadata": {},
     "output_type": "execute_result"
    }
   ],
   "source": [
    "uc['Industry'].value_counts()"
   ]
  },
  {
   "cell_type": "code",
   "execution_count": 16,
   "id": "36cb10e7",
   "metadata": {
    "execution": {
     "iopub.execute_input": "2022-04-21T18:21:37.780642Z",
     "iopub.status.busy": "2022-04-21T18:21:37.780108Z",
     "iopub.status.idle": "2022-04-21T18:21:37.785181Z",
     "shell.execute_reply": "2022-04-21T18:21:37.784567Z"
    },
    "id": "Xo5s_OEIyIi_",
    "papermill": {
     "duration": 0.037346,
     "end_time": "2022-04-21T18:21:37.786910",
     "exception": false,
     "start_time": "2022-04-21T18:21:37.749564",
     "status": "completed"
    },
    "tags": []
   },
   "outputs": [],
   "source": [
    "uc['Industry'] = uc.Industry.astype(\"str\").str.title()"
   ]
  },
  {
   "cell_type": "code",
   "execution_count": 17,
   "id": "33f4d57c",
   "metadata": {
    "execution": {
     "iopub.execute_input": "2022-04-21T18:21:37.849228Z",
     "iopub.status.busy": "2022-04-21T18:21:37.848663Z",
     "iopub.status.idle": "2022-04-21T18:21:39.026402Z",
     "shell.execute_reply": "2022-04-21T18:21:39.025064Z"
    },
    "id": "TEnUzeOCzF4f",
    "outputId": "4b01e616-555e-43ed-9de0-1b3bd901b500",
    "papermill": {
     "duration": 1.210278,
     "end_time": "2022-04-21T18:21:39.028478",
     "exception": false,
     "start_time": "2022-04-21T18:21:37.818200",
     "status": "completed"
    },
    "tags": []
   },
   "outputs": [
    {
     "data": {
      "text/html": [
       "        <script type=\"text/javascript\">\n",
       "        window.PlotlyConfig = {MathJaxConfig: 'local'};\n",
       "        if (window.MathJax) {MathJax.Hub.Config({SVG: {font: \"STIX-Web\"}});}\n",
       "        if (typeof require !== 'undefined') {\n",
       "        require.undef(\"plotly\");\n",
       "        requirejs.config({\n",
       "            paths: {\n",
       "                'plotly': ['https://cdn.plot.ly/plotly-2.11.1.min']\n",
       "            }\n",
       "        });\n",
       "        require(['plotly'], function(Plotly) {\n",
       "            window._Plotly = Plotly;\n",
       "        });\n",
       "        }\n",
       "        </script>\n",
       "        "
      ]
     },
     "metadata": {},
     "output_type": "display_data"
    },
    {
     "data": {
      "text/html": [
       "<div>                            <div id=\"a2375b59-64e9-4ee9-a44a-a6bffa99cb1f\" class=\"plotly-graph-div\" style=\"height:525px; width:100%;\"></div>            <script type=\"text/javascript\">                require([\"plotly\"], function(Plotly) {                    window.PLOTLYENV=window.PLOTLYENV || {};                                    if (document.getElementById(\"a2375b59-64e9-4ee9-a44a-a6bffa99cb1f\")) {                    Plotly.newPlot(                        \"a2375b59-64e9-4ee9-a44a-a6bffa99cb1f\",                        [{\"alignmentgroup\":\"True\",\"hovertemplate\":\"variable=Industry<br>index=%{x}<br>value=%{y}<extra></extra>\",\"legendgroup\":\"Industry\",\"marker\":{\"color\":\"#636efa\",\"pattern\":{\"shape\":\"\"}},\"name\":\"Industry\",\"offsetgroup\":\"Industry\",\"orientation\":\"v\",\"showlegend\":true,\"textposition\":\"auto\",\"x\":[\"Fintech\",\"Internet Software & Services\",\"E-Commerce & Direct-To-Consumer\",\"Artificial Intelligence\",\"Health\",\"Other\",\"Supply Chain, Logistics, & Delivery\",\"Cybersecurity\",\"Data Management & Analytics\",\"Mobile & Telecommunications\",\"Hardware\",\"Auto & Transportation\",\"Edtech\",\"Consumer & Retail\",\"Travel\"],\"xaxis\":\"x\",\"y\":[224,205,111,84,74,58,57,50,41,38,34,31,28,25,14],\"yaxis\":\"y\",\"type\":\"bar\"}],                        {\"template\":{\"data\":{\"histogram2dcontour\":[{\"type\":\"histogram2dcontour\",\"colorbar\":{\"outlinewidth\":0,\"ticks\":\"\"},\"colorscale\":[[0.0,\"#0d0887\"],[0.1111111111111111,\"#46039f\"],[0.2222222222222222,\"#7201a8\"],[0.3333333333333333,\"#9c179e\"],[0.4444444444444444,\"#bd3786\"],[0.5555555555555556,\"#d8576b\"],[0.6666666666666666,\"#ed7953\"],[0.7777777777777778,\"#fb9f3a\"],[0.8888888888888888,\"#fdca26\"],[1.0,\"#f0f921\"]]}],\"choropleth\":[{\"type\":\"choropleth\",\"colorbar\":{\"outlinewidth\":0,\"ticks\":\"\"}}],\"histogram2d\":[{\"type\":\"histogram2d\",\"colorbar\":{\"outlinewidth\":0,\"ticks\":\"\"},\"colorscale\":[[0.0,\"#0d0887\"],[0.1111111111111111,\"#46039f\"],[0.2222222222222222,\"#7201a8\"],[0.3333333333333333,\"#9c179e\"],[0.4444444444444444,\"#bd3786\"],[0.5555555555555556,\"#d8576b\"],[0.6666666666666666,\"#ed7953\"],[0.7777777777777778,\"#fb9f3a\"],[0.8888888888888888,\"#fdca26\"],[1.0,\"#f0f921\"]]}],\"heatmap\":[{\"type\":\"heatmap\",\"colorbar\":{\"outlinewidth\":0,\"ticks\":\"\"},\"colorscale\":[[0.0,\"#0d0887\"],[0.1111111111111111,\"#46039f\"],[0.2222222222222222,\"#7201a8\"],[0.3333333333333333,\"#9c179e\"],[0.4444444444444444,\"#bd3786\"],[0.5555555555555556,\"#d8576b\"],[0.6666666666666666,\"#ed7953\"],[0.7777777777777778,\"#fb9f3a\"],[0.8888888888888888,\"#fdca26\"],[1.0,\"#f0f921\"]]}],\"heatmapgl\":[{\"type\":\"heatmapgl\",\"colorbar\":{\"outlinewidth\":0,\"ticks\":\"\"},\"colorscale\":[[0.0,\"#0d0887\"],[0.1111111111111111,\"#46039f\"],[0.2222222222222222,\"#7201a8\"],[0.3333333333333333,\"#9c179e\"],[0.4444444444444444,\"#bd3786\"],[0.5555555555555556,\"#d8576b\"],[0.6666666666666666,\"#ed7953\"],[0.7777777777777778,\"#fb9f3a\"],[0.8888888888888888,\"#fdca26\"],[1.0,\"#f0f921\"]]}],\"contourcarpet\":[{\"type\":\"contourcarpet\",\"colorbar\":{\"outlinewidth\":0,\"ticks\":\"\"}}],\"contour\":[{\"type\":\"contour\",\"colorbar\":{\"outlinewidth\":0,\"ticks\":\"\"},\"colorscale\":[[0.0,\"#0d0887\"],[0.1111111111111111,\"#46039f\"],[0.2222222222222222,\"#7201a8\"],[0.3333333333333333,\"#9c179e\"],[0.4444444444444444,\"#bd3786\"],[0.5555555555555556,\"#d8576b\"],[0.6666666666666666,\"#ed7953\"],[0.7777777777777778,\"#fb9f3a\"],[0.8888888888888888,\"#fdca26\"],[1.0,\"#f0f921\"]]}],\"surface\":[{\"type\":\"surface\",\"colorbar\":{\"outlinewidth\":0,\"ticks\":\"\"},\"colorscale\":[[0.0,\"#0d0887\"],[0.1111111111111111,\"#46039f\"],[0.2222222222222222,\"#7201a8\"],[0.3333333333333333,\"#9c179e\"],[0.4444444444444444,\"#bd3786\"],[0.5555555555555556,\"#d8576b\"],[0.6666666666666666,\"#ed7953\"],[0.7777777777777778,\"#fb9f3a\"],[0.8888888888888888,\"#fdca26\"],[1.0,\"#f0f921\"]]}],\"mesh3d\":[{\"type\":\"mesh3d\",\"colorbar\":{\"outlinewidth\":0,\"ticks\":\"\"}}],\"scatter\":[{\"fillpattern\":{\"fillmode\":\"overlay\",\"size\":10,\"solidity\":0.2},\"type\":\"scatter\"}],\"parcoords\":[{\"type\":\"parcoords\",\"line\":{\"colorbar\":{\"outlinewidth\":0,\"ticks\":\"\"}}}],\"scatterpolargl\":[{\"type\":\"scatterpolargl\",\"marker\":{\"colorbar\":{\"outlinewidth\":0,\"ticks\":\"\"}}}],\"bar\":[{\"error_x\":{\"color\":\"#2a3f5f\"},\"error_y\":{\"color\":\"#2a3f5f\"},\"marker\":{\"line\":{\"color\":\"#E5ECF6\",\"width\":0.5},\"pattern\":{\"fillmode\":\"overlay\",\"size\":10,\"solidity\":0.2}},\"type\":\"bar\"}],\"scattergeo\":[{\"type\":\"scattergeo\",\"marker\":{\"colorbar\":{\"outlinewidth\":0,\"ticks\":\"\"}}}],\"scatterpolar\":[{\"type\":\"scatterpolar\",\"marker\":{\"colorbar\":{\"outlinewidth\":0,\"ticks\":\"\"}}}],\"histogram\":[{\"marker\":{\"pattern\":{\"fillmode\":\"overlay\",\"size\":10,\"solidity\":0.2}},\"type\":\"histogram\"}],\"scattergl\":[{\"type\":\"scattergl\",\"marker\":{\"colorbar\":{\"outlinewidth\":0,\"ticks\":\"\"}}}],\"scatter3d\":[{\"type\":\"scatter3d\",\"line\":{\"colorbar\":{\"outlinewidth\":0,\"ticks\":\"\"}},\"marker\":{\"colorbar\":{\"outlinewidth\":0,\"ticks\":\"\"}}}],\"scattermapbox\":[{\"type\":\"scattermapbox\",\"marker\":{\"colorbar\":{\"outlinewidth\":0,\"ticks\":\"\"}}}],\"scatterternary\":[{\"type\":\"scatterternary\",\"marker\":{\"colorbar\":{\"outlinewidth\":0,\"ticks\":\"\"}}}],\"scattercarpet\":[{\"type\":\"scattercarpet\",\"marker\":{\"colorbar\":{\"outlinewidth\":0,\"ticks\":\"\"}}}],\"carpet\":[{\"aaxis\":{\"endlinecolor\":\"#2a3f5f\",\"gridcolor\":\"white\",\"linecolor\":\"white\",\"minorgridcolor\":\"white\",\"startlinecolor\":\"#2a3f5f\"},\"baxis\":{\"endlinecolor\":\"#2a3f5f\",\"gridcolor\":\"white\",\"linecolor\":\"white\",\"minorgridcolor\":\"white\",\"startlinecolor\":\"#2a3f5f\"},\"type\":\"carpet\"}],\"table\":[{\"cells\":{\"fill\":{\"color\":\"#EBF0F8\"},\"line\":{\"color\":\"white\"}},\"header\":{\"fill\":{\"color\":\"#C8D4E3\"},\"line\":{\"color\":\"white\"}},\"type\":\"table\"}],\"barpolar\":[{\"marker\":{\"line\":{\"color\":\"#E5ECF6\",\"width\":0.5},\"pattern\":{\"fillmode\":\"overlay\",\"size\":10,\"solidity\":0.2}},\"type\":\"barpolar\"}],\"pie\":[{\"automargin\":true,\"type\":\"pie\"}]},\"layout\":{\"autotypenumbers\":\"strict\",\"colorway\":[\"#636efa\",\"#EF553B\",\"#00cc96\",\"#ab63fa\",\"#FFA15A\",\"#19d3f3\",\"#FF6692\",\"#B6E880\",\"#FF97FF\",\"#FECB52\"],\"font\":{\"color\":\"#2a3f5f\"},\"hovermode\":\"closest\",\"hoverlabel\":{\"align\":\"left\"},\"paper_bgcolor\":\"white\",\"plot_bgcolor\":\"#E5ECF6\",\"polar\":{\"bgcolor\":\"#E5ECF6\",\"angularaxis\":{\"gridcolor\":\"white\",\"linecolor\":\"white\",\"ticks\":\"\"},\"radialaxis\":{\"gridcolor\":\"white\",\"linecolor\":\"white\",\"ticks\":\"\"}},\"ternary\":{\"bgcolor\":\"#E5ECF6\",\"aaxis\":{\"gridcolor\":\"white\",\"linecolor\":\"white\",\"ticks\":\"\"},\"baxis\":{\"gridcolor\":\"white\",\"linecolor\":\"white\",\"ticks\":\"\"},\"caxis\":{\"gridcolor\":\"white\",\"linecolor\":\"white\",\"ticks\":\"\"}},\"coloraxis\":{\"colorbar\":{\"outlinewidth\":0,\"ticks\":\"\"}},\"colorscale\":{\"sequential\":[[0.0,\"#0d0887\"],[0.1111111111111111,\"#46039f\"],[0.2222222222222222,\"#7201a8\"],[0.3333333333333333,\"#9c179e\"],[0.4444444444444444,\"#bd3786\"],[0.5555555555555556,\"#d8576b\"],[0.6666666666666666,\"#ed7953\"],[0.7777777777777778,\"#fb9f3a\"],[0.8888888888888888,\"#fdca26\"],[1.0,\"#f0f921\"]],\"sequentialminus\":[[0.0,\"#0d0887\"],[0.1111111111111111,\"#46039f\"],[0.2222222222222222,\"#7201a8\"],[0.3333333333333333,\"#9c179e\"],[0.4444444444444444,\"#bd3786\"],[0.5555555555555556,\"#d8576b\"],[0.6666666666666666,\"#ed7953\"],[0.7777777777777778,\"#fb9f3a\"],[0.8888888888888888,\"#fdca26\"],[1.0,\"#f0f921\"]],\"diverging\":[[0,\"#8e0152\"],[0.1,\"#c51b7d\"],[0.2,\"#de77ae\"],[0.3,\"#f1b6da\"],[0.4,\"#fde0ef\"],[0.5,\"#f7f7f7\"],[0.6,\"#e6f5d0\"],[0.7,\"#b8e186\"],[0.8,\"#7fbc41\"],[0.9,\"#4d9221\"],[1,\"#276419\"]]},\"xaxis\":{\"gridcolor\":\"white\",\"linecolor\":\"white\",\"ticks\":\"\",\"title\":{\"standoff\":15},\"zerolinecolor\":\"white\",\"automargin\":true,\"zerolinewidth\":2},\"yaxis\":{\"gridcolor\":\"white\",\"linecolor\":\"white\",\"ticks\":\"\",\"title\":{\"standoff\":15},\"zerolinecolor\":\"white\",\"automargin\":true,\"zerolinewidth\":2},\"scene\":{\"xaxis\":{\"backgroundcolor\":\"#E5ECF6\",\"gridcolor\":\"white\",\"linecolor\":\"white\",\"showbackground\":true,\"ticks\":\"\",\"zerolinecolor\":\"white\",\"gridwidth\":2},\"yaxis\":{\"backgroundcolor\":\"#E5ECF6\",\"gridcolor\":\"white\",\"linecolor\":\"white\",\"showbackground\":true,\"ticks\":\"\",\"zerolinecolor\":\"white\",\"gridwidth\":2},\"zaxis\":{\"backgroundcolor\":\"#E5ECF6\",\"gridcolor\":\"white\",\"linecolor\":\"white\",\"showbackground\":true,\"ticks\":\"\",\"zerolinecolor\":\"white\",\"gridwidth\":2}},\"shapedefaults\":{\"line\":{\"color\":\"#2a3f5f\"}},\"annotationdefaults\":{\"arrowcolor\":\"#2a3f5f\",\"arrowhead\":0,\"arrowwidth\":1},\"geo\":{\"bgcolor\":\"white\",\"landcolor\":\"#E5ECF6\",\"subunitcolor\":\"white\",\"showland\":true,\"showlakes\":true,\"lakecolor\":\"white\"},\"title\":{\"x\":0.05},\"mapbox\":{\"style\":\"light\"}}},\"xaxis\":{\"anchor\":\"y\",\"domain\":[0.0,1.0],\"title\":{\"text\":\"index\"}},\"yaxis\":{\"anchor\":\"x\",\"domain\":[0.0,1.0],\"title\":{\"text\":\"value\"}},\"legend\":{\"title\":{\"text\":\"variable\"},\"tracegroupgap\":0},\"margin\":{\"t\":60},\"barmode\":\"relative\"},                        {\"responsive\": true}                    ).then(function(){\n",
       "                            \n",
       "var gd = document.getElementById('a2375b59-64e9-4ee9-a44a-a6bffa99cb1f');\n",
       "var x = new MutationObserver(function (mutations, observer) {{\n",
       "        var display = window.getComputedStyle(gd).display;\n",
       "        if (!display || display === 'none') {{\n",
       "            console.log([gd, 'removed!']);\n",
       "            Plotly.purge(gd);\n",
       "            observer.disconnect();\n",
       "        }}\n",
       "}});\n",
       "\n",
       "// Listen for the removal of the full notebook cells\n",
       "var notebookContainer = gd.closest('#notebook-container');\n",
       "if (notebookContainer) {{\n",
       "    x.observe(notebookContainer, {childList: true});\n",
       "}}\n",
       "\n",
       "// Listen for the clearing of the current output cell\n",
       "var outputEl = gd.closest('.output');\n",
       "if (outputEl) {{\n",
       "    x.observe(outputEl, {childList: true});\n",
       "}}\n",
       "\n",
       "                        })                };                });            </script>        </div>"
      ]
     },
     "metadata": {},
     "output_type": "display_data"
    }
   ],
   "source": [
    "px.bar(uc['Industry'].value_counts())\n"
   ]
  },
  {
   "cell_type": "code",
   "execution_count": 18,
   "id": "6ff55f61",
   "metadata": {
    "execution": {
     "iopub.execute_input": "2022-04-21T18:21:39.091608Z",
     "iopub.status.busy": "2022-04-21T18:21:39.091319Z",
     "iopub.status.idle": "2022-04-21T18:21:39.107436Z",
     "shell.execute_reply": "2022-04-21T18:21:39.106832Z"
    },
    "id": "idXA0cxe0NG4",
    "outputId": "f2efc6c9-61a1-4413-fae7-67b65932c55e",
    "papermill": {
     "duration": 0.050437,
     "end_time": "2022-04-21T18:21:39.109094",
     "exception": false,
     "start_time": "2022-04-21T18:21:39.058657",
     "status": "completed"
    },
    "tags": []
   },
   "outputs": [
    {
     "data": {
      "text/html": [
       "<div>\n",
       "<style scoped>\n",
       "    .dataframe tbody tr th:only-of-type {\n",
       "        vertical-align: middle;\n",
       "    }\n",
       "\n",
       "    .dataframe tbody tr th {\n",
       "        vertical-align: top;\n",
       "    }\n",
       "\n",
       "    .dataframe thead th {\n",
       "        text-align: right;\n",
       "    }\n",
       "</style>\n",
       "<table border=\"1\" class=\"dataframe\">\n",
       "  <thead>\n",
       "    <tr style=\"text-align: right;\">\n",
       "      <th></th>\n",
       "      <th>Company</th>\n",
       "      <th>Valuation</th>\n",
       "      <th>Date Joined</th>\n",
       "      <th>Industry</th>\n",
       "      <th>City</th>\n",
       "      <th>Country</th>\n",
       "      <th>Continent</th>\n",
       "      <th>Year Founded</th>\n",
       "      <th>Funding</th>\n",
       "      <th>Select Investors</th>\n",
       "    </tr>\n",
       "  </thead>\n",
       "  <tbody>\n",
       "    <tr>\n",
       "      <th>0</th>\n",
       "      <td>Bytedance</td>\n",
       "      <td>180.0</td>\n",
       "      <td>2017-04-07</td>\n",
       "      <td>Artificial Intelligence</td>\n",
       "      <td>Beijing</td>\n",
       "      <td>China</td>\n",
       "      <td>Asia</td>\n",
       "      <td>1970-01-01 00:00:00.000002012</td>\n",
       "      <td>8.0</td>\n",
       "      <td>Sequoia Capital China, SIG Asia Investments, S...</td>\n",
       "    </tr>\n",
       "    <tr>\n",
       "      <th>1</th>\n",
       "      <td>SpaceX</td>\n",
       "      <td>100.0</td>\n",
       "      <td>2012-12-01</td>\n",
       "      <td>Other</td>\n",
       "      <td>Hawthorne</td>\n",
       "      <td>United States</td>\n",
       "      <td>North America</td>\n",
       "      <td>1970-01-01 00:00:00.000002002</td>\n",
       "      <td>7.0</td>\n",
       "      <td>Founders Fund, Draper Fisher Jurvetson, Rothen...</td>\n",
       "    </tr>\n",
       "    <tr>\n",
       "      <th>2</th>\n",
       "      <td>SHEIN</td>\n",
       "      <td>100.0</td>\n",
       "      <td>2018-07-03</td>\n",
       "      <td>E-Commerce &amp; Direct-To-Consumer</td>\n",
       "      <td>Shenzhen</td>\n",
       "      <td>China</td>\n",
       "      <td>Asia</td>\n",
       "      <td>1970-01-01 00:00:00.000002008</td>\n",
       "      <td>2.0</td>\n",
       "      <td>Tiger Global Management, Sequoia Capital China...</td>\n",
       "    </tr>\n",
       "    <tr>\n",
       "      <th>3</th>\n",
       "      <td>Stripe</td>\n",
       "      <td>95.0</td>\n",
       "      <td>2014-01-23</td>\n",
       "      <td>Fintech</td>\n",
       "      <td>San Francisco</td>\n",
       "      <td>United States</td>\n",
       "      <td>North America</td>\n",
       "      <td>1970-01-01 00:00:00.000002010</td>\n",
       "      <td>2.0</td>\n",
       "      <td>Khosla Ventures, LowercaseCapital, capitalG</td>\n",
       "    </tr>\n",
       "    <tr>\n",
       "      <th>4</th>\n",
       "      <td>Klarna</td>\n",
       "      <td>46.0</td>\n",
       "      <td>2011-12-12</td>\n",
       "      <td>Fintech</td>\n",
       "      <td>Stockholm</td>\n",
       "      <td>Sweden</td>\n",
       "      <td>Europe</td>\n",
       "      <td>1970-01-01 00:00:00.000002005</td>\n",
       "      <td>4.0</td>\n",
       "      <td>Institutional Venture Partners, Sequoia Capita...</td>\n",
       "    </tr>\n",
       "  </tbody>\n",
       "</table>\n",
       "</div>"
      ],
      "text/plain": [
       "     Company  Valuation Date Joined                         Industry  \\\n",
       "0  Bytedance      180.0  2017-04-07          Artificial Intelligence   \n",
       "1     SpaceX      100.0  2012-12-01                            Other   \n",
       "2      SHEIN      100.0  2018-07-03  E-Commerce & Direct-To-Consumer   \n",
       "3     Stripe       95.0  2014-01-23                          Fintech   \n",
       "4     Klarna       46.0  2011-12-12                          Fintech   \n",
       "\n",
       "            City        Country      Continent                  Year Founded  \\\n",
       "0        Beijing          China           Asia 1970-01-01 00:00:00.000002012   \n",
       "1      Hawthorne  United States  North America 1970-01-01 00:00:00.000002002   \n",
       "2       Shenzhen          China           Asia 1970-01-01 00:00:00.000002008   \n",
       "3  San Francisco  United States  North America 1970-01-01 00:00:00.000002010   \n",
       "4      Stockholm         Sweden         Europe 1970-01-01 00:00:00.000002005   \n",
       "\n",
       "   Funding                                   Select Investors  \n",
       "0      8.0  Sequoia Capital China, SIG Asia Investments, S...  \n",
       "1      7.0  Founders Fund, Draper Fisher Jurvetson, Rothen...  \n",
       "2      2.0  Tiger Global Management, Sequoia Capital China...  \n",
       "3      2.0        Khosla Ventures, LowercaseCapital, capitalG  \n",
       "4      4.0  Institutional Venture Partners, Sequoia Capita...  "
      ]
     },
     "execution_count": 18,
     "metadata": {},
     "output_type": "execute_result"
    }
   ],
   "source": [
    "uc.head()"
   ]
  },
  {
   "cell_type": "code",
   "execution_count": 19,
   "id": "39ebc88f",
   "metadata": {
    "execution": {
     "iopub.execute_input": "2022-04-21T18:21:39.172359Z",
     "iopub.status.busy": "2022-04-21T18:21:39.171567Z",
     "iopub.status.idle": "2022-04-21T18:21:39.229183Z",
     "shell.execute_reply": "2022-04-21T18:21:39.228218Z"
    },
    "id": "NAsxSjElCV1k",
    "outputId": "3ae56256-33d9-411c-ccdf-180cbba1e9e0",
    "papermill": {
     "duration": 0.091259,
     "end_time": "2022-04-21T18:21:39.231115",
     "exception": false,
     "start_time": "2022-04-21T18:21:39.139856",
     "status": "completed"
    },
    "tags": []
   },
   "outputs": [
    {
     "data": {
      "text/html": [
       "<div>                            <div id=\"f85ae1c4-ca83-49a2-8b5a-5aed9aee60d7\" class=\"plotly-graph-div\" style=\"height:525px; width:100%;\"></div>            <script type=\"text/javascript\">                require([\"plotly\"], function(Plotly) {                    window.PLOTLYENV=window.PLOTLYENV || {};                                    if (document.getElementById(\"f85ae1c4-ca83-49a2-8b5a-5aed9aee60d7\")) {                    Plotly.newPlot(                        \"f85ae1c4-ca83-49a2-8b5a-5aed9aee60d7\",                        [{\"alignmentgroup\":\"True\",\"hovertemplate\":\"variable=Country<br>index=%{x}<br>value=%{y}<extra></extra>\",\"legendgroup\":\"Country\",\"marker\":{\"color\":\"#636efa\",\"pattern\":{\"shape\":\"\"}},\"name\":\"Country\",\"offsetgroup\":\"Country\",\"orientation\":\"v\",\"showlegend\":true,\"textposition\":\"auto\",\"x\":[\"United States\",\"China\",\"India\",\"United Kingdom\",\"Germany\",\"France\",\"Israel\",\"Canada\",\"Brazil\",\"Singapore\",\"South Korea\",\"Australia\",\"Hong Kong\",\"Mexico\",\"Indonesia\",\"Netherlands\",\"Sweden\",\"Switzerland\",\"Japan\",\"Ireland\",\"Finland\",\"Norway\",\"United Arab Emirates\",\"Turkey\",\"Spain\",\"Belgium\",\"Chile\",\"South Africa\",\"Philippines\",\"Thailand\",\"Estonia\",\"Vietnam\",\"Austria\",\"Colombia\",\"Denmark\",\"Argentina\",\"Bermuda\",\"Lithuania\",\"Malaysia\",\"Senegal\",\"Bahamas\",\"Luxembourg\",\"Nigeria\",\"Czech Republic\",\"Croatia\",\"Italy\"],\"xaxis\":\"x\",\"y\":[562,173,65,43,26,24,20,19,16,12,12,8,6,6,6,6,6,5,5,5,4,4,3,3,3,3,2,2,2,2,2,2,2,2,2,1,1,1,1,1,1,1,1,1,1,1],\"yaxis\":\"y\",\"type\":\"bar\"}],                        {\"template\":{\"data\":{\"histogram2dcontour\":[{\"type\":\"histogram2dcontour\",\"colorbar\":{\"outlinewidth\":0,\"ticks\":\"\"},\"colorscale\":[[0.0,\"#0d0887\"],[0.1111111111111111,\"#46039f\"],[0.2222222222222222,\"#7201a8\"],[0.3333333333333333,\"#9c179e\"],[0.4444444444444444,\"#bd3786\"],[0.5555555555555556,\"#d8576b\"],[0.6666666666666666,\"#ed7953\"],[0.7777777777777778,\"#fb9f3a\"],[0.8888888888888888,\"#fdca26\"],[1.0,\"#f0f921\"]]}],\"choropleth\":[{\"type\":\"choropleth\",\"colorbar\":{\"outlinewidth\":0,\"ticks\":\"\"}}],\"histogram2d\":[{\"type\":\"histogram2d\",\"colorbar\":{\"outlinewidth\":0,\"ticks\":\"\"},\"colorscale\":[[0.0,\"#0d0887\"],[0.1111111111111111,\"#46039f\"],[0.2222222222222222,\"#7201a8\"],[0.3333333333333333,\"#9c179e\"],[0.4444444444444444,\"#bd3786\"],[0.5555555555555556,\"#d8576b\"],[0.6666666666666666,\"#ed7953\"],[0.7777777777777778,\"#fb9f3a\"],[0.8888888888888888,\"#fdca26\"],[1.0,\"#f0f921\"]]}],\"heatmap\":[{\"type\":\"heatmap\",\"colorbar\":{\"outlinewidth\":0,\"ticks\":\"\"},\"colorscale\":[[0.0,\"#0d0887\"],[0.1111111111111111,\"#46039f\"],[0.2222222222222222,\"#7201a8\"],[0.3333333333333333,\"#9c179e\"],[0.4444444444444444,\"#bd3786\"],[0.5555555555555556,\"#d8576b\"],[0.6666666666666666,\"#ed7953\"],[0.7777777777777778,\"#fb9f3a\"],[0.8888888888888888,\"#fdca26\"],[1.0,\"#f0f921\"]]}],\"heatmapgl\":[{\"type\":\"heatmapgl\",\"colorbar\":{\"outlinewidth\":0,\"ticks\":\"\"},\"colorscale\":[[0.0,\"#0d0887\"],[0.1111111111111111,\"#46039f\"],[0.2222222222222222,\"#7201a8\"],[0.3333333333333333,\"#9c179e\"],[0.4444444444444444,\"#bd3786\"],[0.5555555555555556,\"#d8576b\"],[0.6666666666666666,\"#ed7953\"],[0.7777777777777778,\"#fb9f3a\"],[0.8888888888888888,\"#fdca26\"],[1.0,\"#f0f921\"]]}],\"contourcarpet\":[{\"type\":\"contourcarpet\",\"colorbar\":{\"outlinewidth\":0,\"ticks\":\"\"}}],\"contour\":[{\"type\":\"contour\",\"colorbar\":{\"outlinewidth\":0,\"ticks\":\"\"},\"colorscale\":[[0.0,\"#0d0887\"],[0.1111111111111111,\"#46039f\"],[0.2222222222222222,\"#7201a8\"],[0.3333333333333333,\"#9c179e\"],[0.4444444444444444,\"#bd3786\"],[0.5555555555555556,\"#d8576b\"],[0.6666666666666666,\"#ed7953\"],[0.7777777777777778,\"#fb9f3a\"],[0.8888888888888888,\"#fdca26\"],[1.0,\"#f0f921\"]]}],\"surface\":[{\"type\":\"surface\",\"colorbar\":{\"outlinewidth\":0,\"ticks\":\"\"},\"colorscale\":[[0.0,\"#0d0887\"],[0.1111111111111111,\"#46039f\"],[0.2222222222222222,\"#7201a8\"],[0.3333333333333333,\"#9c179e\"],[0.4444444444444444,\"#bd3786\"],[0.5555555555555556,\"#d8576b\"],[0.6666666666666666,\"#ed7953\"],[0.7777777777777778,\"#fb9f3a\"],[0.8888888888888888,\"#fdca26\"],[1.0,\"#f0f921\"]]}],\"mesh3d\":[{\"type\":\"mesh3d\",\"colorbar\":{\"outlinewidth\":0,\"ticks\":\"\"}}],\"scatter\":[{\"fillpattern\":{\"fillmode\":\"overlay\",\"size\":10,\"solidity\":0.2},\"type\":\"scatter\"}],\"parcoords\":[{\"type\":\"parcoords\",\"line\":{\"colorbar\":{\"outlinewidth\":0,\"ticks\":\"\"}}}],\"scatterpolargl\":[{\"type\":\"scatterpolargl\",\"marker\":{\"colorbar\":{\"outlinewidth\":0,\"ticks\":\"\"}}}],\"bar\":[{\"error_x\":{\"color\":\"#2a3f5f\"},\"error_y\":{\"color\":\"#2a3f5f\"},\"marker\":{\"line\":{\"color\":\"#E5ECF6\",\"width\":0.5},\"pattern\":{\"fillmode\":\"overlay\",\"size\":10,\"solidity\":0.2}},\"type\":\"bar\"}],\"scattergeo\":[{\"type\":\"scattergeo\",\"marker\":{\"colorbar\":{\"outlinewidth\":0,\"ticks\":\"\"}}}],\"scatterpolar\":[{\"type\":\"scatterpolar\",\"marker\":{\"colorbar\":{\"outlinewidth\":0,\"ticks\":\"\"}}}],\"histogram\":[{\"marker\":{\"pattern\":{\"fillmode\":\"overlay\",\"size\":10,\"solidity\":0.2}},\"type\":\"histogram\"}],\"scattergl\":[{\"type\":\"scattergl\",\"marker\":{\"colorbar\":{\"outlinewidth\":0,\"ticks\":\"\"}}}],\"scatter3d\":[{\"type\":\"scatter3d\",\"line\":{\"colorbar\":{\"outlinewidth\":0,\"ticks\":\"\"}},\"marker\":{\"colorbar\":{\"outlinewidth\":0,\"ticks\":\"\"}}}],\"scattermapbox\":[{\"type\":\"scattermapbox\",\"marker\":{\"colorbar\":{\"outlinewidth\":0,\"ticks\":\"\"}}}],\"scatterternary\":[{\"type\":\"scatterternary\",\"marker\":{\"colorbar\":{\"outlinewidth\":0,\"ticks\":\"\"}}}],\"scattercarpet\":[{\"type\":\"scattercarpet\",\"marker\":{\"colorbar\":{\"outlinewidth\":0,\"ticks\":\"\"}}}],\"carpet\":[{\"aaxis\":{\"endlinecolor\":\"#2a3f5f\",\"gridcolor\":\"white\",\"linecolor\":\"white\",\"minorgridcolor\":\"white\",\"startlinecolor\":\"#2a3f5f\"},\"baxis\":{\"endlinecolor\":\"#2a3f5f\",\"gridcolor\":\"white\",\"linecolor\":\"white\",\"minorgridcolor\":\"white\",\"startlinecolor\":\"#2a3f5f\"},\"type\":\"carpet\"}],\"table\":[{\"cells\":{\"fill\":{\"color\":\"#EBF0F8\"},\"line\":{\"color\":\"white\"}},\"header\":{\"fill\":{\"color\":\"#C8D4E3\"},\"line\":{\"color\":\"white\"}},\"type\":\"table\"}],\"barpolar\":[{\"marker\":{\"line\":{\"color\":\"#E5ECF6\",\"width\":0.5},\"pattern\":{\"fillmode\":\"overlay\",\"size\":10,\"solidity\":0.2}},\"type\":\"barpolar\"}],\"pie\":[{\"automargin\":true,\"type\":\"pie\"}]},\"layout\":{\"autotypenumbers\":\"strict\",\"colorway\":[\"#636efa\",\"#EF553B\",\"#00cc96\",\"#ab63fa\",\"#FFA15A\",\"#19d3f3\",\"#FF6692\",\"#B6E880\",\"#FF97FF\",\"#FECB52\"],\"font\":{\"color\":\"#2a3f5f\"},\"hovermode\":\"closest\",\"hoverlabel\":{\"align\":\"left\"},\"paper_bgcolor\":\"white\",\"plot_bgcolor\":\"#E5ECF6\",\"polar\":{\"bgcolor\":\"#E5ECF6\",\"angularaxis\":{\"gridcolor\":\"white\",\"linecolor\":\"white\",\"ticks\":\"\"},\"radialaxis\":{\"gridcolor\":\"white\",\"linecolor\":\"white\",\"ticks\":\"\"}},\"ternary\":{\"bgcolor\":\"#E5ECF6\",\"aaxis\":{\"gridcolor\":\"white\",\"linecolor\":\"white\",\"ticks\":\"\"},\"baxis\":{\"gridcolor\":\"white\",\"linecolor\":\"white\",\"ticks\":\"\"},\"caxis\":{\"gridcolor\":\"white\",\"linecolor\":\"white\",\"ticks\":\"\"}},\"coloraxis\":{\"colorbar\":{\"outlinewidth\":0,\"ticks\":\"\"}},\"colorscale\":{\"sequential\":[[0.0,\"#0d0887\"],[0.1111111111111111,\"#46039f\"],[0.2222222222222222,\"#7201a8\"],[0.3333333333333333,\"#9c179e\"],[0.4444444444444444,\"#bd3786\"],[0.5555555555555556,\"#d8576b\"],[0.6666666666666666,\"#ed7953\"],[0.7777777777777778,\"#fb9f3a\"],[0.8888888888888888,\"#fdca26\"],[1.0,\"#f0f921\"]],\"sequentialminus\":[[0.0,\"#0d0887\"],[0.1111111111111111,\"#46039f\"],[0.2222222222222222,\"#7201a8\"],[0.3333333333333333,\"#9c179e\"],[0.4444444444444444,\"#bd3786\"],[0.5555555555555556,\"#d8576b\"],[0.6666666666666666,\"#ed7953\"],[0.7777777777777778,\"#fb9f3a\"],[0.8888888888888888,\"#fdca26\"],[1.0,\"#f0f921\"]],\"diverging\":[[0,\"#8e0152\"],[0.1,\"#c51b7d\"],[0.2,\"#de77ae\"],[0.3,\"#f1b6da\"],[0.4,\"#fde0ef\"],[0.5,\"#f7f7f7\"],[0.6,\"#e6f5d0\"],[0.7,\"#b8e186\"],[0.8,\"#7fbc41\"],[0.9,\"#4d9221\"],[1,\"#276419\"]]},\"xaxis\":{\"gridcolor\":\"white\",\"linecolor\":\"white\",\"ticks\":\"\",\"title\":{\"standoff\":15},\"zerolinecolor\":\"white\",\"automargin\":true,\"zerolinewidth\":2},\"yaxis\":{\"gridcolor\":\"white\",\"linecolor\":\"white\",\"ticks\":\"\",\"title\":{\"standoff\":15},\"zerolinecolor\":\"white\",\"automargin\":true,\"zerolinewidth\":2},\"scene\":{\"xaxis\":{\"backgroundcolor\":\"#E5ECF6\",\"gridcolor\":\"white\",\"linecolor\":\"white\",\"showbackground\":true,\"ticks\":\"\",\"zerolinecolor\":\"white\",\"gridwidth\":2},\"yaxis\":{\"backgroundcolor\":\"#E5ECF6\",\"gridcolor\":\"white\",\"linecolor\":\"white\",\"showbackground\":true,\"ticks\":\"\",\"zerolinecolor\":\"white\",\"gridwidth\":2},\"zaxis\":{\"backgroundcolor\":\"#E5ECF6\",\"gridcolor\":\"white\",\"linecolor\":\"white\",\"showbackground\":true,\"ticks\":\"\",\"zerolinecolor\":\"white\",\"gridwidth\":2}},\"shapedefaults\":{\"line\":{\"color\":\"#2a3f5f\"}},\"annotationdefaults\":{\"arrowcolor\":\"#2a3f5f\",\"arrowhead\":0,\"arrowwidth\":1},\"geo\":{\"bgcolor\":\"white\",\"landcolor\":\"#E5ECF6\",\"subunitcolor\":\"white\",\"showland\":true,\"showlakes\":true,\"lakecolor\":\"white\"},\"title\":{\"x\":0.05},\"mapbox\":{\"style\":\"light\"}}},\"xaxis\":{\"anchor\":\"y\",\"domain\":[0.0,1.0],\"title\":{\"text\":\"index\"}},\"yaxis\":{\"anchor\":\"x\",\"domain\":[0.0,1.0],\"title\":{\"text\":\"value\"}},\"legend\":{\"title\":{\"text\":\"variable\"},\"tracegroupgap\":0},\"margin\":{\"t\":60},\"barmode\":\"relative\"},                        {\"responsive\": true}                    ).then(function(){\n",
       "                            \n",
       "var gd = document.getElementById('f85ae1c4-ca83-49a2-8b5a-5aed9aee60d7');\n",
       "var x = new MutationObserver(function (mutations, observer) {{\n",
       "        var display = window.getComputedStyle(gd).display;\n",
       "        if (!display || display === 'none') {{\n",
       "            console.log([gd, 'removed!']);\n",
       "            Plotly.purge(gd);\n",
       "            observer.disconnect();\n",
       "        }}\n",
       "}});\n",
       "\n",
       "// Listen for the removal of the full notebook cells\n",
       "var notebookContainer = gd.closest('#notebook-container');\n",
       "if (notebookContainer) {{\n",
       "    x.observe(notebookContainer, {childList: true});\n",
       "}}\n",
       "\n",
       "// Listen for the clearing of the current output cell\n",
       "var outputEl = gd.closest('.output');\n",
       "if (outputEl) {{\n",
       "    x.observe(outputEl, {childList: true});\n",
       "}}\n",
       "\n",
       "                        })                };                });            </script>        </div>"
      ]
     },
     "metadata": {},
     "output_type": "display_data"
    }
   ],
   "source": [
    "px.bar(uc.Country.value_counts())"
   ]
  },
  {
   "cell_type": "code",
   "execution_count": 20,
   "id": "9dda7311",
   "metadata": {
    "execution": {
     "iopub.execute_input": "2022-04-21T18:21:39.295840Z",
     "iopub.status.busy": "2022-04-21T18:21:39.295005Z",
     "iopub.status.idle": "2022-04-21T18:21:39.310105Z",
     "shell.execute_reply": "2022-04-21T18:21:39.309453Z"
    },
    "id": "_nmum2CbDVmC",
    "outputId": "c2c227bc-7df5-493a-d1ee-e050a31f6bee",
    "papermill": {
     "duration": 0.049037,
     "end_time": "2022-04-21T18:21:39.311924",
     "exception": false,
     "start_time": "2022-04-21T18:21:39.262887",
     "status": "completed"
    },
    "tags": []
   },
   "outputs": [
    {
     "data": {
      "text/html": [
       "<div>\n",
       "<style scoped>\n",
       "    .dataframe tbody tr th:only-of-type {\n",
       "        vertical-align: middle;\n",
       "    }\n",
       "\n",
       "    .dataframe tbody tr th {\n",
       "        vertical-align: top;\n",
       "    }\n",
       "\n",
       "    .dataframe thead th {\n",
       "        text-align: right;\n",
       "    }\n",
       "</style>\n",
       "<table border=\"1\" class=\"dataframe\">\n",
       "  <thead>\n",
       "    <tr style=\"text-align: right;\">\n",
       "      <th></th>\n",
       "      <th>Company</th>\n",
       "      <th>Valuation</th>\n",
       "      <th>Date Joined</th>\n",
       "      <th>Industry</th>\n",
       "      <th>City</th>\n",
       "      <th>Country</th>\n",
       "      <th>Continent</th>\n",
       "      <th>Year Founded</th>\n",
       "      <th>Funding</th>\n",
       "      <th>Select Investors</th>\n",
       "    </tr>\n",
       "  </thead>\n",
       "  <tbody>\n",
       "    <tr>\n",
       "      <th>0</th>\n",
       "      <td>Bytedance</td>\n",
       "      <td>180.0</td>\n",
       "      <td>2017-04-07</td>\n",
       "      <td>Artificial Intelligence</td>\n",
       "      <td>Beijing</td>\n",
       "      <td>China</td>\n",
       "      <td>Asia</td>\n",
       "      <td>1970-01-01 00:00:00.000002012</td>\n",
       "      <td>8.0</td>\n",
       "      <td>Sequoia Capital China, SIG Asia Investments, S...</td>\n",
       "    </tr>\n",
       "    <tr>\n",
       "      <th>1</th>\n",
       "      <td>SpaceX</td>\n",
       "      <td>100.0</td>\n",
       "      <td>2012-12-01</td>\n",
       "      <td>Other</td>\n",
       "      <td>Hawthorne</td>\n",
       "      <td>United States</td>\n",
       "      <td>North America</td>\n",
       "      <td>1970-01-01 00:00:00.000002002</td>\n",
       "      <td>7.0</td>\n",
       "      <td>Founders Fund, Draper Fisher Jurvetson, Rothen...</td>\n",
       "    </tr>\n",
       "    <tr>\n",
       "      <th>2</th>\n",
       "      <td>SHEIN</td>\n",
       "      <td>100.0</td>\n",
       "      <td>2018-07-03</td>\n",
       "      <td>E-Commerce &amp; Direct-To-Consumer</td>\n",
       "      <td>Shenzhen</td>\n",
       "      <td>China</td>\n",
       "      <td>Asia</td>\n",
       "      <td>1970-01-01 00:00:00.000002008</td>\n",
       "      <td>2.0</td>\n",
       "      <td>Tiger Global Management, Sequoia Capital China...</td>\n",
       "    </tr>\n",
       "    <tr>\n",
       "      <th>3</th>\n",
       "      <td>Stripe</td>\n",
       "      <td>95.0</td>\n",
       "      <td>2014-01-23</td>\n",
       "      <td>Fintech</td>\n",
       "      <td>San Francisco</td>\n",
       "      <td>United States</td>\n",
       "      <td>North America</td>\n",
       "      <td>1970-01-01 00:00:00.000002010</td>\n",
       "      <td>2.0</td>\n",
       "      <td>Khosla Ventures, LowercaseCapital, capitalG</td>\n",
       "    </tr>\n",
       "    <tr>\n",
       "      <th>4</th>\n",
       "      <td>Klarna</td>\n",
       "      <td>46.0</td>\n",
       "      <td>2011-12-12</td>\n",
       "      <td>Fintech</td>\n",
       "      <td>Stockholm</td>\n",
       "      <td>Sweden</td>\n",
       "      <td>Europe</td>\n",
       "      <td>1970-01-01 00:00:00.000002005</td>\n",
       "      <td>4.0</td>\n",
       "      <td>Institutional Venture Partners, Sequoia Capita...</td>\n",
       "    </tr>\n",
       "  </tbody>\n",
       "</table>\n",
       "</div>"
      ],
      "text/plain": [
       "     Company  Valuation Date Joined                         Industry  \\\n",
       "0  Bytedance      180.0  2017-04-07          Artificial Intelligence   \n",
       "1     SpaceX      100.0  2012-12-01                            Other   \n",
       "2      SHEIN      100.0  2018-07-03  E-Commerce & Direct-To-Consumer   \n",
       "3     Stripe       95.0  2014-01-23                          Fintech   \n",
       "4     Klarna       46.0  2011-12-12                          Fintech   \n",
       "\n",
       "            City        Country      Continent                  Year Founded  \\\n",
       "0        Beijing          China           Asia 1970-01-01 00:00:00.000002012   \n",
       "1      Hawthorne  United States  North America 1970-01-01 00:00:00.000002002   \n",
       "2       Shenzhen          China           Asia 1970-01-01 00:00:00.000002008   \n",
       "3  San Francisco  United States  North America 1970-01-01 00:00:00.000002010   \n",
       "4      Stockholm         Sweden         Europe 1970-01-01 00:00:00.000002005   \n",
       "\n",
       "   Funding                                   Select Investors  \n",
       "0      8.0  Sequoia Capital China, SIG Asia Investments, S...  \n",
       "1      7.0  Founders Fund, Draper Fisher Jurvetson, Rothen...  \n",
       "2      2.0  Tiger Global Management, Sequoia Capital China...  \n",
       "3      2.0        Khosla Ventures, LowercaseCapital, capitalG  \n",
       "4      4.0  Institutional Venture Partners, Sequoia Capita...  "
      ]
     },
     "execution_count": 20,
     "metadata": {},
     "output_type": "execute_result"
    }
   ],
   "source": [
    "uc.head()"
   ]
  },
  {
   "cell_type": "code",
   "execution_count": 21,
   "id": "8dc9d3c4",
   "metadata": {
    "execution": {
     "iopub.execute_input": "2022-04-21T18:21:39.377208Z",
     "iopub.status.busy": "2022-04-21T18:21:39.376902Z",
     "iopub.status.idle": "2022-04-21T18:21:39.385699Z",
     "shell.execute_reply": "2022-04-21T18:21:39.384771Z"
    },
    "id": "qTZcanw1E7vd",
    "outputId": "b6d46287-4428-4ec0-f79b-162f7d26fa5c",
    "papermill": {
     "duration": 0.04392,
     "end_time": "2022-04-21T18:21:39.387547",
     "exception": false,
     "start_time": "2022-04-21T18:21:39.343627",
     "status": "completed"
    },
    "tags": []
   },
   "outputs": [
    {
     "data": {
      "text/plain": [
       "7"
      ]
     },
     "execution_count": 21,
     "metadata": {},
     "output_type": "execute_result"
    }
   ],
   "source": [
    "uc.columns = [columns.replace(\" \", \"_\") for columns in uc.columns]\n",
    "\n",
    "x = (uc['Date_Joined'] <= \"2012-12-31\") & (uc['Valuation'] >= 1.0) \n",
    "\n",
    "len(uc[x])"
   ]
  },
  {
   "cell_type": "code",
   "execution_count": 22,
   "id": "607b991c",
   "metadata": {
    "execution": {
     "iopub.execute_input": "2022-04-21T18:21:39.452881Z",
     "iopub.status.busy": "2022-04-21T18:21:39.452573Z",
     "iopub.status.idle": "2022-04-21T18:21:39.467897Z",
     "shell.execute_reply": "2022-04-21T18:21:39.467032Z"
    },
    "id": "MXfnlkh1D9A6",
    "outputId": "a0938de0-e615-4083-8ad4-fb9507d6e93e",
    "papermill": {
     "duration": 0.050481,
     "end_time": "2022-04-21T18:21:39.469856",
     "exception": false,
     "start_time": "2022-04-21T18:21:39.419375",
     "status": "completed"
    },
    "tags": []
   },
   "outputs": [
    {
     "data": {
      "text/html": [
       "<div>\n",
       "<style scoped>\n",
       "    .dataframe tbody tr th:only-of-type {\n",
       "        vertical-align: middle;\n",
       "    }\n",
       "\n",
       "    .dataframe tbody tr th {\n",
       "        vertical-align: top;\n",
       "    }\n",
       "\n",
       "    .dataframe thead th {\n",
       "        text-align: right;\n",
       "    }\n",
       "</style>\n",
       "<table border=\"1\" class=\"dataframe\">\n",
       "  <thead>\n",
       "    <tr style=\"text-align: right;\">\n",
       "      <th></th>\n",
       "      <th>Company</th>\n",
       "      <th>Valuation</th>\n",
       "      <th>Date_Joined</th>\n",
       "      <th>Industry</th>\n",
       "      <th>City</th>\n",
       "      <th>Country</th>\n",
       "      <th>Continent</th>\n",
       "      <th>Year_Founded</th>\n",
       "      <th>Funding</th>\n",
       "      <th>Select_Investors</th>\n",
       "    </tr>\n",
       "  </thead>\n",
       "  <tbody>\n",
       "    <tr>\n",
       "      <th>0</th>\n",
       "      <td>Bytedance</td>\n",
       "      <td>180.0</td>\n",
       "      <td>2017-04-07</td>\n",
       "      <td>Artificial Intelligence</td>\n",
       "      <td>Beijing</td>\n",
       "      <td>China</td>\n",
       "      <td>Asia</td>\n",
       "      <td>1970-01-01 00:00:00.000002012</td>\n",
       "      <td>8.0</td>\n",
       "      <td>Sequoia Capital China, SIG Asia Investments, S...</td>\n",
       "    </tr>\n",
       "    <tr>\n",
       "      <th>1</th>\n",
       "      <td>SpaceX</td>\n",
       "      <td>100.0</td>\n",
       "      <td>2012-12-01</td>\n",
       "      <td>Other</td>\n",
       "      <td>Hawthorne</td>\n",
       "      <td>United States</td>\n",
       "      <td>North America</td>\n",
       "      <td>1970-01-01 00:00:00.000002002</td>\n",
       "      <td>7.0</td>\n",
       "      <td>Founders Fund, Draper Fisher Jurvetson, Rothen...</td>\n",
       "    </tr>\n",
       "    <tr>\n",
       "      <th>2</th>\n",
       "      <td>SHEIN</td>\n",
       "      <td>100.0</td>\n",
       "      <td>2018-07-03</td>\n",
       "      <td>E-Commerce &amp; Direct-To-Consumer</td>\n",
       "      <td>Shenzhen</td>\n",
       "      <td>China</td>\n",
       "      <td>Asia</td>\n",
       "      <td>1970-01-01 00:00:00.000002008</td>\n",
       "      <td>2.0</td>\n",
       "      <td>Tiger Global Management, Sequoia Capital China...</td>\n",
       "    </tr>\n",
       "    <tr>\n",
       "      <th>3</th>\n",
       "      <td>Stripe</td>\n",
       "      <td>95.0</td>\n",
       "      <td>2014-01-23</td>\n",
       "      <td>Fintech</td>\n",
       "      <td>San Francisco</td>\n",
       "      <td>United States</td>\n",
       "      <td>North America</td>\n",
       "      <td>1970-01-01 00:00:00.000002010</td>\n",
       "      <td>2.0</td>\n",
       "      <td>Khosla Ventures, LowercaseCapital, capitalG</td>\n",
       "    </tr>\n",
       "    <tr>\n",
       "      <th>4</th>\n",
       "      <td>Klarna</td>\n",
       "      <td>46.0</td>\n",
       "      <td>2011-12-12</td>\n",
       "      <td>Fintech</td>\n",
       "      <td>Stockholm</td>\n",
       "      <td>Sweden</td>\n",
       "      <td>Europe</td>\n",
       "      <td>1970-01-01 00:00:00.000002005</td>\n",
       "      <td>4.0</td>\n",
       "      <td>Institutional Venture Partners, Sequoia Capita...</td>\n",
       "    </tr>\n",
       "  </tbody>\n",
       "</table>\n",
       "</div>"
      ],
      "text/plain": [
       "     Company  Valuation Date_Joined                         Industry  \\\n",
       "0  Bytedance      180.0  2017-04-07          Artificial Intelligence   \n",
       "1     SpaceX      100.0  2012-12-01                            Other   \n",
       "2      SHEIN      100.0  2018-07-03  E-Commerce & Direct-To-Consumer   \n",
       "3     Stripe       95.0  2014-01-23                          Fintech   \n",
       "4     Klarna       46.0  2011-12-12                          Fintech   \n",
       "\n",
       "            City        Country      Continent                  Year_Founded  \\\n",
       "0        Beijing          China           Asia 1970-01-01 00:00:00.000002012   \n",
       "1      Hawthorne  United States  North America 1970-01-01 00:00:00.000002002   \n",
       "2       Shenzhen          China           Asia 1970-01-01 00:00:00.000002008   \n",
       "3  San Francisco  United States  North America 1970-01-01 00:00:00.000002010   \n",
       "4      Stockholm         Sweden         Europe 1970-01-01 00:00:00.000002005   \n",
       "\n",
       "   Funding                                   Select_Investors  \n",
       "0      8.0  Sequoia Capital China, SIG Asia Investments, S...  \n",
       "1      7.0  Founders Fund, Draper Fisher Jurvetson, Rothen...  \n",
       "2      2.0  Tiger Global Management, Sequoia Capital China...  \n",
       "3      2.0        Khosla Ventures, LowercaseCapital, capitalG  \n",
       "4      4.0  Institutional Venture Partners, Sequoia Capita...  "
      ]
     },
     "execution_count": 22,
     "metadata": {},
     "output_type": "execute_result"
    }
   ],
   "source": [
    "uc.head()"
   ]
  },
  {
   "cell_type": "markdown",
   "id": "a56eef16",
   "metadata": {
    "id": "N-WQI3hkfp5t",
    "papermill": {
     "duration": 0.032847,
     "end_time": "2022-04-21T18:21:39.535658",
     "exception": false,
     "start_time": "2022-04-21T18:21:39.502811",
     "status": "completed"
    },
    "tags": []
   },
   "source": [
    "> We can see that before the beginning of 2013 there was only 7 unicorn companies 📅"
   ]
  },
  {
   "cell_type": "code",
   "execution_count": 23,
   "id": "7c61879d",
   "metadata": {
    "execution": {
     "iopub.execute_input": "2022-04-21T18:21:39.603358Z",
     "iopub.status.busy": "2022-04-21T18:21:39.603061Z",
     "iopub.status.idle": "2022-04-21T18:21:39.614751Z",
     "shell.execute_reply": "2022-04-21T18:21:39.613835Z"
    },
    "id": "SUegI96EDnwU",
    "outputId": "fb169840-dc1a-485e-e3e9-2ab9f213b898",
    "papermill": {
     "duration": 0.04809,
     "end_time": "2022-04-21T18:21:39.616632",
     "exception": false,
     "start_time": "2022-04-21T18:21:39.568542",
     "status": "completed"
    },
    "tags": []
   },
   "outputs": [
    {
     "data": {
      "text/plain": [
       "1067"
      ]
     },
     "execution_count": 23,
     "metadata": {},
     "output_type": "execute_result"
    }
   ],
   "source": [
    "\n",
    "len(uc.query(\"Date_Joined > '2012-12-31' and Valuation >=1.0\"))"
   ]
  },
  {
   "cell_type": "markdown",
   "id": "b407edf8",
   "metadata": {
    "id": "DvhCoS-Qgz9E",
    "papermill": {
     "duration": 0.033355,
     "end_time": "2022-04-21T18:21:39.683386",
     "exception": false,
     "start_time": "2022-04-21T18:21:39.650031",
     "status": "completed"
    },
    "tags": []
   },
   "source": [
    "And 1067 unicorn companies after 2012 "
   ]
  },
  {
   "cell_type": "code",
   "execution_count": 24,
   "id": "35ca12bd",
   "metadata": {
    "execution": {
     "iopub.execute_input": "2022-04-21T18:21:39.750897Z",
     "iopub.status.busy": "2022-04-21T18:21:39.750608Z",
     "iopub.status.idle": "2022-04-21T18:21:39.754940Z",
     "shell.execute_reply": "2022-04-21T18:21:39.754128Z"
    },
    "id": "V9MmSXI1TVtS",
    "papermill": {
     "duration": 0.040473,
     "end_time": "2022-04-21T18:21:39.756928",
     "exception": false,
     "start_time": "2022-04-21T18:21:39.716455",
     "status": "completed"
    },
    "tags": []
   },
   "outputs": [],
   "source": [
    "def norm(x):\n",
    "\n",
    "  if x > 9:\n",
    "    x = x / 1000 \n",
    "\n",
    "  return x "
   ]
  },
  {
   "cell_type": "code",
   "execution_count": 25,
   "id": "f6ec918e",
   "metadata": {
    "execution": {
     "iopub.execute_input": "2022-04-21T18:21:39.825442Z",
     "iopub.status.busy": "2022-04-21T18:21:39.825138Z",
     "iopub.status.idle": "2022-04-21T18:21:39.830818Z",
     "shell.execute_reply": "2022-04-21T18:21:39.829919Z"
    },
    "id": "VNGpz3chxDHf",
    "papermill": {
     "duration": 0.042811,
     "end_time": "2022-04-21T18:21:39.832761",
     "exception": false,
     "start_time": "2022-04-21T18:21:39.789950",
     "status": "completed"
    },
    "tags": []
   },
   "outputs": [],
   "source": [
    "uc['Funding'] = uc['Funding'].apply(norm)\n"
   ]
  },
  {
   "cell_type": "code",
   "execution_count": 26,
   "id": "1699c9b7",
   "metadata": {
    "execution": {
     "iopub.execute_input": "2022-04-21T18:21:39.901940Z",
     "iopub.status.busy": "2022-04-21T18:21:39.901521Z",
     "iopub.status.idle": "2022-04-21T18:21:39.911441Z",
     "shell.execute_reply": "2022-04-21T18:21:39.910338Z"
    },
    "id": "g8t1ufXfsfhG",
    "papermill": {
     "duration": 0.047,
     "end_time": "2022-04-21T18:21:39.913570",
     "exception": false,
     "start_time": "2022-04-21T18:21:39.866570",
     "status": "completed"
    },
    "tags": []
   },
   "outputs": [],
   "source": [
    "group = uc.groupby(\"Funding\")['Valuation'].mean()"
   ]
  },
  {
   "cell_type": "code",
   "execution_count": 27,
   "id": "7373278f",
   "metadata": {
    "execution": {
     "iopub.execute_input": "2022-04-21T18:21:39.981895Z",
     "iopub.status.busy": "2022-04-21T18:21:39.981620Z",
     "iopub.status.idle": "2022-04-21T18:21:40.055996Z",
     "shell.execute_reply": "2022-04-21T18:21:40.055224Z"
    },
    "id": "lgcMNEBNgv8C",
    "outputId": "2e01e66a-ab34-4999-e3fe-47a975977f80",
    "papermill": {
     "duration": 0.111987,
     "end_time": "2022-04-21T18:21:40.058158",
     "exception": false,
     "start_time": "2022-04-21T18:21:39.946171",
     "status": "completed"
    },
    "tags": []
   },
   "outputs": [
    {
     "data": {
      "text/html": [
       "<div>                            <div id=\"f968d84b-71c3-4f5b-b278-a136194d6817\" class=\"plotly-graph-div\" style=\"height:525px; width:100%;\"></div>            <script type=\"text/javascript\">                require([\"plotly\"], function(Plotly) {                    window.PLOTLYENV=window.PLOTLYENV || {};                                    if (document.getElementById(\"f968d84b-71c3-4f5b-b278-a136194d6817\")) {                    Plotly.newPlot(                        \"f968d84b-71c3-4f5b-b278-a136194d6817\",                        [{\"hovertemplate\":\"variable=Valuation<br>Funding=%{x}<br>value=%{y}<extra></extra>\",\"legendgroup\":\"Valuation\",\"marker\":{\"color\":\"#636efa\",\"symbol\":\"circle\"},\"mode\":\"markers\",\"name\":\"Valuation\",\"orientation\":\"v\",\"showlegend\":true,\"x\":[0.0,0.01,0.014,0.015,0.017,0.019,0.029,0.033,0.043,0.045,0.051,0.052,0.053,0.054,0.06,0.062,0.064,0.067,0.07,0.071,0.075,0.079,0.08,0.086,0.09,0.091,0.092,0.093,0.094,0.096,0.098,0.1,0.101,0.102,0.105,0.107,0.109,0.11,0.111,0.114,0.115,0.116,0.118,0.119,0.12,0.121,0.124,0.125,0.126,0.127,0.128,0.129,0.13,0.131,0.132,0.134,0.135,0.136,0.137,0.139,0.14,0.141,0.142,0.143,0.144,0.145,0.147,0.148,0.149,0.15,0.151,0.152,0.154,0.156,0.157,0.16,0.161,0.163,0.164,0.165,0.166,0.167,0.169,0.17,0.171,0.172,0.173,0.174,0.177,0.178,0.179,0.18,0.181,0.182,0.183,0.185,0.186,0.187,0.188,0.189,0.19,0.191,0.192,0.193,0.194,0.195,0.196,0.197,0.2,0.201,0.202,0.203,0.204,0.205,0.206,0.207,0.209,0.21,0.211,0.214,0.215,0.216,0.217,0.218,0.219,0.22,0.221,0.222,0.223,0.224,0.225,0.226,0.227,0.228,0.229,0.23,0.231,0.232,0.233,0.235,0.236,0.237,0.238,0.239,0.24,0.241,0.243,0.245,0.246,0.247,0.248,0.249,0.25,0.251,0.252,0.253,0.254,0.255,0.257,0.258,0.259,0.26,0.261,0.262,0.263,0.264,0.265,0.266,0.267,0.268,0.269,0.271,0.273,0.274,0.275,0.276,0.277,0.279,0.28,0.281,0.282,0.283,0.284,0.285,0.286,0.287,0.288,0.289,0.291,0.292,0.293,0.294,0.295,0.296,0.297,0.298,0.299,0.3,0.301,0.302,0.303,0.304,0.305,0.306,0.307,0.308,0.309,0.31,0.311,0.313,0.314,0.315,0.317,0.318,0.32,0.323,0.324,0.325,0.326,0.328,0.329,0.33,0.331,0.333,0.334,0.335,0.336,0.337,0.339,0.34,0.341,0.342,0.343,0.344,0.345,0.346,0.347,0.349,0.35,0.351,0.352,0.356,0.357,0.358,0.359,0.36,0.361,0.362,0.364,0.365,0.366,0.367,0.368,0.369,0.37,0.371,0.373,0.374,0.376,0.378,0.379,0.38,0.381,0.382,0.384,0.386,0.388,0.389,0.39,0.391,0.393,0.394,0.395,0.396,0.397,0.398,0.399,0.4,0.401,0.402,0.403,0.404,0.405,0.406,0.407,0.408,0.41,0.412,0.413,0.414,0.415,0.416,0.417,0.418,0.419,0.421,0.422,0.423,0.424,0.425,0.426,0.427,0.428,0.43,0.431,0.432,0.433,0.434,0.435,0.436,0.438,0.439,0.44,0.441,0.445,0.447,0.448,0.449,0.45,0.456,0.458,0.46,0.461,0.462,0.463,0.465,0.466,0.468,0.471,0.472,0.474,0.475,0.476,0.477,0.482,0.483,0.484,0.487,0.489,0.49,0.492,0.493,0.495,0.496,0.497,0.498,0.5,0.503,0.504,0.505,0.507,0.509,0.511,0.514,0.515,0.516,0.517,0.52,0.521,0.523,0.524,0.525,0.526,0.527,0.529,0.531,0.532,0.534,0.535,0.536,0.538,0.542,0.543,0.544,0.545,0.546,0.547,0.549,0.55,0.551,0.553,0.554,0.555,0.556,0.557,0.558,0.559,0.562,0.564,0.566,0.567,0.568,0.569,0.57,0.572,0.573,0.577,0.582,0.583,0.585,0.587,0.588,0.591,0.592,0.593,0.594,0.595,0.596,0.599,0.6,0.603,0.607,0.61,0.612,0.614,0.62,0.623,0.624,0.628,0.629,0.632,0.633,0.634,0.64,0.643,0.644,0.645,0.647,0.65,0.655,0.656,0.657,0.658,0.66,0.663,0.664,0.665,0.666,0.667,0.676,0.679,0.682,0.685,0.691,0.696,0.697,0.698,0.7,0.704,0.706,0.71,0.711,0.714,0.717,0.719,0.72,0.721,0.722,0.728,0.729,0.73,0.734,0.738,0.739,0.742,0.744,0.754,0.755,0.761,0.765,0.766,0.768,0.77,0.775,0.776,0.777,0.786,0.787,0.788,0.789,0.791,0.792,0.799,0.8,0.802,0.803,0.812,0.815,0.818,0.82,0.824,0.826,0.828,0.844,0.849,0.856,0.859,0.861,0.863,0.864,0.869,0.87,0.871,0.875,0.88,0.881,0.891,0.902,0.903,0.91,0.912,0.918,0.919,0.92,0.922,0.926,0.928,0.943,0.946,0.947,0.948,0.95,0.975,0.979,0.987,0.99,0.996,0.999,1.0,2.0,3.0,4.0,5.0,7.0,8.0,9.0],\"xaxis\":\"x\",\"y\":[4.0,1.0,19.5,1.0,1.0,2.0,2.0,1.0,1.0,1.3333333333333333,1.0,1.0,1.0,3.0,1.0,1.0,1.0,1.0,1.0,5.5,3.0,1.0,1.0,1.0,1.5,1.0,1.0,1.0,1.0,1.5,1.0,1.4,2.0,1.0,3.3333333333333335,1.0,1.0,2.5,1.0,1.0,1.5,1.0,1.0,3.0,1.3333333333333333,2.0,1.0,2.5,1.0,1.3333333333333333,1.75,2.0,1.0,1.0,1.0,1.0,1.0,1.0,1.5,1.5,1.0,1.0,2.0,1.0,1.0,1.0,2.0,1.6666666666666667,1.0,1.5,1.2,1.6666666666666667,1.6666666666666667,1.0,1.0,1.0,1.3333333333333333,1.0,1.0,1.0,1.0,1.0,1.0,1.6666666666666667,1.0,1.25,1.0,1.0,1.5,1.0,2.0,3.0,1.3333333333333333,1.0,1.5,1.0,1.5,2.5,1.3333333333333333,1.0,1.6666666666666667,1.0,1.4,1.5,1.0,1.6666666666666667,1.0,1.0,1.4166666666666667,1.0,1.25,2.0,2.0,1.0,1.0,1.0,1.0,1.25,1.3333333333333333,1.0,1.0,3.0,1.3333333333333333,1.6,2.0,1.0,1.3333333333333333,2.0,1.0,1.5,2.25,1.3333333333333333,1.0,1.0,1.5,2.0,1.5,1.0,2.0,1.0,1.3333333333333333,1.3333333333333333,1.0,1.0,1.6,1.0,1.0,1.5,1.0,1.0,3.0,1.0,2.0,2.0,1.0,1.6666666666666667,1.0,1.5,1.3333333333333333,1.0,1.5,1.0,2.0,1.0,2.5,1.0,1.0,2.0,1.0,1.5,1.0,1.0,1.0,2.0,2.0,1.0,1.5,1.0,3.0,1.3333333333333333,1.5,1.0,1.0,1.6666666666666667,3.0,1.5,1.0,2.0,1.0,1.0,1.5,3.4,2.0,2.0,7.0,2.0,1.8,1.4,2.0,1.5,1.0,1.0,1.6666666666666667,1.0,1.0,1.0,1.0,1.2,2.5,3.0,1.8,1.5,1.0,1.0,2.0,1.0,2.5,1.2,2.0,1.6666666666666667,2.0,1.5,1.5,4.666666666666667,2.5,2.5,1.0,1.0,2.0,1.5,2.0,2.0,10.0,1.0,1.5,1.0,1.0,2.0,2.5,2.5,1.75,2.0,3.0,2.0,1.0,3.0,1.0,1.0,2.0,1.6666666666666667,3.0,4.0,1.0,1.0,1.6666666666666667,2.6666666666666665,2.0,2.0,4.666666666666667,1.5,2.6666666666666665,1.5,2.5,1.0,1.0,2.0,1.0,1.0,1.5,1.0,2.0,1.0,3.0,1.0,2.0,3.0,2.0,7.5,2.0,2.0,1.6666666666666667,2.5,6.0,1.0,2.3333333333333335,1.75,2.0,6.0,4.0,3.5,6.0,1.0,2.3333333333333335,3.0,2.5,2.0,2.0,2.0,4.0,5.0,3.0,5.666666666666667,5.0,1.0,2.0,1.5,3.0,3.0,2.6666666666666665,1.0,2.0,1.0,2.5,2.0,3.0,7.0,3.0,1.5,2.5,1.5,1.0,1.0,3.0,5.0,1.0,3.0,2.0,3.5,3.0,2.0,2.5,2.0,18.0,3.0,1.0,3.0,1.0,2.5,2.5,14.0,3.0,4.0,4.0,2.25,5.666666666666667,3.0,3.0,3.0,2.5,4.0,2.25,1.5,1.0,5.0,1.0,1.0,2.0,1.0,1.0,2.5,3.5,2.5,1.0,2.0,2.0,3.0,2.0,1.0,3.5,2.0,1.5,3.0,3.0,2.0,1.5,4.0,1.0,4.5,2.0,3.0,4.0,1.0,4.0,2.0,2.0,7.0,5.0,5.0,10.0,2.0,5.0,2.0,2.0,1.5,17.0,1.0,2.0,3.0,5.0,1.0,4.0,1.0,3.0,1.0,2.0,1.5,1.0,5.0,3.5,3.3333333333333335,5.5,5.5,1.0,2.5,3.0,1.0,1.0,2.0,3.0,6.0,1.0,3.0,2.0,2.0,4.0,5.0,6.0,5.0,1.0,3.0,1.0,4.0,1.5,4.75,2.0,4.0,2.0,3.0,4.0,2.0,9.0,2.0,2.0,7.5,2.0,1.0,3.0,1.0,5.0,3.0,2.0,3.0,3.0,2.0,2.0,2.5,15.0,2.3333333333333335,6.0,6.0,3.0,9.0,1.0,4.0,8.0,2.0,2.0,3.5,4.5,12.0,2.0,2.0,9.0,5.0,4.0,3.0,2.0,1.0,3.0,3.0,2.0,2.25,12.0,3.75,6.0,6.0,3.0,6.0,3.0,8.0,5.0,6.0,2.0,7.0,7.0,4.0,3.0,2.0,7.0,4.0,5.0,4.0,1.0,1.0,3.0,4.0,6.0,2.0,5.0,3.5,7.0,20.0,3.0,7.0,7.0,5.0,6.0,5.0,2.0,1.0,4.0,2.0,2.5,15.0,3.0,1.0,5.0,3.0,5.278688524590164,16.0,17.142857142857142,17.555555555555557,13.5,66.0,180.0,1.0],\"yaxis\":\"y\",\"type\":\"scatter\"}],                        {\"template\":{\"data\":{\"histogram2dcontour\":[{\"type\":\"histogram2dcontour\",\"colorbar\":{\"outlinewidth\":0,\"ticks\":\"\"},\"colorscale\":[[0.0,\"#0d0887\"],[0.1111111111111111,\"#46039f\"],[0.2222222222222222,\"#7201a8\"],[0.3333333333333333,\"#9c179e\"],[0.4444444444444444,\"#bd3786\"],[0.5555555555555556,\"#d8576b\"],[0.6666666666666666,\"#ed7953\"],[0.7777777777777778,\"#fb9f3a\"],[0.8888888888888888,\"#fdca26\"],[1.0,\"#f0f921\"]]}],\"choropleth\":[{\"type\":\"choropleth\",\"colorbar\":{\"outlinewidth\":0,\"ticks\":\"\"}}],\"histogram2d\":[{\"type\":\"histogram2d\",\"colorbar\":{\"outlinewidth\":0,\"ticks\":\"\"},\"colorscale\":[[0.0,\"#0d0887\"],[0.1111111111111111,\"#46039f\"],[0.2222222222222222,\"#7201a8\"],[0.3333333333333333,\"#9c179e\"],[0.4444444444444444,\"#bd3786\"],[0.5555555555555556,\"#d8576b\"],[0.6666666666666666,\"#ed7953\"],[0.7777777777777778,\"#fb9f3a\"],[0.8888888888888888,\"#fdca26\"],[1.0,\"#f0f921\"]]}],\"heatmap\":[{\"type\":\"heatmap\",\"colorbar\":{\"outlinewidth\":0,\"ticks\":\"\"},\"colorscale\":[[0.0,\"#0d0887\"],[0.1111111111111111,\"#46039f\"],[0.2222222222222222,\"#7201a8\"],[0.3333333333333333,\"#9c179e\"],[0.4444444444444444,\"#bd3786\"],[0.5555555555555556,\"#d8576b\"],[0.6666666666666666,\"#ed7953\"],[0.7777777777777778,\"#fb9f3a\"],[0.8888888888888888,\"#fdca26\"],[1.0,\"#f0f921\"]]}],\"heatmapgl\":[{\"type\":\"heatmapgl\",\"colorbar\":{\"outlinewidth\":0,\"ticks\":\"\"},\"colorscale\":[[0.0,\"#0d0887\"],[0.1111111111111111,\"#46039f\"],[0.2222222222222222,\"#7201a8\"],[0.3333333333333333,\"#9c179e\"],[0.4444444444444444,\"#bd3786\"],[0.5555555555555556,\"#d8576b\"],[0.6666666666666666,\"#ed7953\"],[0.7777777777777778,\"#fb9f3a\"],[0.8888888888888888,\"#fdca26\"],[1.0,\"#f0f921\"]]}],\"contourcarpet\":[{\"type\":\"contourcarpet\",\"colorbar\":{\"outlinewidth\":0,\"ticks\":\"\"}}],\"contour\":[{\"type\":\"contour\",\"colorbar\":{\"outlinewidth\":0,\"ticks\":\"\"},\"colorscale\":[[0.0,\"#0d0887\"],[0.1111111111111111,\"#46039f\"],[0.2222222222222222,\"#7201a8\"],[0.3333333333333333,\"#9c179e\"],[0.4444444444444444,\"#bd3786\"],[0.5555555555555556,\"#d8576b\"],[0.6666666666666666,\"#ed7953\"],[0.7777777777777778,\"#fb9f3a\"],[0.8888888888888888,\"#fdca26\"],[1.0,\"#f0f921\"]]}],\"surface\":[{\"type\":\"surface\",\"colorbar\":{\"outlinewidth\":0,\"ticks\":\"\"},\"colorscale\":[[0.0,\"#0d0887\"],[0.1111111111111111,\"#46039f\"],[0.2222222222222222,\"#7201a8\"],[0.3333333333333333,\"#9c179e\"],[0.4444444444444444,\"#bd3786\"],[0.5555555555555556,\"#d8576b\"],[0.6666666666666666,\"#ed7953\"],[0.7777777777777778,\"#fb9f3a\"],[0.8888888888888888,\"#fdca26\"],[1.0,\"#f0f921\"]]}],\"mesh3d\":[{\"type\":\"mesh3d\",\"colorbar\":{\"outlinewidth\":0,\"ticks\":\"\"}}],\"scatter\":[{\"fillpattern\":{\"fillmode\":\"overlay\",\"size\":10,\"solidity\":0.2},\"type\":\"scatter\"}],\"parcoords\":[{\"type\":\"parcoords\",\"line\":{\"colorbar\":{\"outlinewidth\":0,\"ticks\":\"\"}}}],\"scatterpolargl\":[{\"type\":\"scatterpolargl\",\"marker\":{\"colorbar\":{\"outlinewidth\":0,\"ticks\":\"\"}}}],\"bar\":[{\"error_x\":{\"color\":\"#2a3f5f\"},\"error_y\":{\"color\":\"#2a3f5f\"},\"marker\":{\"line\":{\"color\":\"#E5ECF6\",\"width\":0.5},\"pattern\":{\"fillmode\":\"overlay\",\"size\":10,\"solidity\":0.2}},\"type\":\"bar\"}],\"scattergeo\":[{\"type\":\"scattergeo\",\"marker\":{\"colorbar\":{\"outlinewidth\":0,\"ticks\":\"\"}}}],\"scatterpolar\":[{\"type\":\"scatterpolar\",\"marker\":{\"colorbar\":{\"outlinewidth\":0,\"ticks\":\"\"}}}],\"histogram\":[{\"marker\":{\"pattern\":{\"fillmode\":\"overlay\",\"size\":10,\"solidity\":0.2}},\"type\":\"histogram\"}],\"scattergl\":[{\"type\":\"scattergl\",\"marker\":{\"colorbar\":{\"outlinewidth\":0,\"ticks\":\"\"}}}],\"scatter3d\":[{\"type\":\"scatter3d\",\"line\":{\"colorbar\":{\"outlinewidth\":0,\"ticks\":\"\"}},\"marker\":{\"colorbar\":{\"outlinewidth\":0,\"ticks\":\"\"}}}],\"scattermapbox\":[{\"type\":\"scattermapbox\",\"marker\":{\"colorbar\":{\"outlinewidth\":0,\"ticks\":\"\"}}}],\"scatterternary\":[{\"type\":\"scatterternary\",\"marker\":{\"colorbar\":{\"outlinewidth\":0,\"ticks\":\"\"}}}],\"scattercarpet\":[{\"type\":\"scattercarpet\",\"marker\":{\"colorbar\":{\"outlinewidth\":0,\"ticks\":\"\"}}}],\"carpet\":[{\"aaxis\":{\"endlinecolor\":\"#2a3f5f\",\"gridcolor\":\"white\",\"linecolor\":\"white\",\"minorgridcolor\":\"white\",\"startlinecolor\":\"#2a3f5f\"},\"baxis\":{\"endlinecolor\":\"#2a3f5f\",\"gridcolor\":\"white\",\"linecolor\":\"white\",\"minorgridcolor\":\"white\",\"startlinecolor\":\"#2a3f5f\"},\"type\":\"carpet\"}],\"table\":[{\"cells\":{\"fill\":{\"color\":\"#EBF0F8\"},\"line\":{\"color\":\"white\"}},\"header\":{\"fill\":{\"color\":\"#C8D4E3\"},\"line\":{\"color\":\"white\"}},\"type\":\"table\"}],\"barpolar\":[{\"marker\":{\"line\":{\"color\":\"#E5ECF6\",\"width\":0.5},\"pattern\":{\"fillmode\":\"overlay\",\"size\":10,\"solidity\":0.2}},\"type\":\"barpolar\"}],\"pie\":[{\"automargin\":true,\"type\":\"pie\"}]},\"layout\":{\"autotypenumbers\":\"strict\",\"colorway\":[\"#636efa\",\"#EF553B\",\"#00cc96\",\"#ab63fa\",\"#FFA15A\",\"#19d3f3\",\"#FF6692\",\"#B6E880\",\"#FF97FF\",\"#FECB52\"],\"font\":{\"color\":\"#2a3f5f\"},\"hovermode\":\"closest\",\"hoverlabel\":{\"align\":\"left\"},\"paper_bgcolor\":\"white\",\"plot_bgcolor\":\"#E5ECF6\",\"polar\":{\"bgcolor\":\"#E5ECF6\",\"angularaxis\":{\"gridcolor\":\"white\",\"linecolor\":\"white\",\"ticks\":\"\"},\"radialaxis\":{\"gridcolor\":\"white\",\"linecolor\":\"white\",\"ticks\":\"\"}},\"ternary\":{\"bgcolor\":\"#E5ECF6\",\"aaxis\":{\"gridcolor\":\"white\",\"linecolor\":\"white\",\"ticks\":\"\"},\"baxis\":{\"gridcolor\":\"white\",\"linecolor\":\"white\",\"ticks\":\"\"},\"caxis\":{\"gridcolor\":\"white\",\"linecolor\":\"white\",\"ticks\":\"\"}},\"coloraxis\":{\"colorbar\":{\"outlinewidth\":0,\"ticks\":\"\"}},\"colorscale\":{\"sequential\":[[0.0,\"#0d0887\"],[0.1111111111111111,\"#46039f\"],[0.2222222222222222,\"#7201a8\"],[0.3333333333333333,\"#9c179e\"],[0.4444444444444444,\"#bd3786\"],[0.5555555555555556,\"#d8576b\"],[0.6666666666666666,\"#ed7953\"],[0.7777777777777778,\"#fb9f3a\"],[0.8888888888888888,\"#fdca26\"],[1.0,\"#f0f921\"]],\"sequentialminus\":[[0.0,\"#0d0887\"],[0.1111111111111111,\"#46039f\"],[0.2222222222222222,\"#7201a8\"],[0.3333333333333333,\"#9c179e\"],[0.4444444444444444,\"#bd3786\"],[0.5555555555555556,\"#d8576b\"],[0.6666666666666666,\"#ed7953\"],[0.7777777777777778,\"#fb9f3a\"],[0.8888888888888888,\"#fdca26\"],[1.0,\"#f0f921\"]],\"diverging\":[[0,\"#8e0152\"],[0.1,\"#c51b7d\"],[0.2,\"#de77ae\"],[0.3,\"#f1b6da\"],[0.4,\"#fde0ef\"],[0.5,\"#f7f7f7\"],[0.6,\"#e6f5d0\"],[0.7,\"#b8e186\"],[0.8,\"#7fbc41\"],[0.9,\"#4d9221\"],[1,\"#276419\"]]},\"xaxis\":{\"gridcolor\":\"white\",\"linecolor\":\"white\",\"ticks\":\"\",\"title\":{\"standoff\":15},\"zerolinecolor\":\"white\",\"automargin\":true,\"zerolinewidth\":2},\"yaxis\":{\"gridcolor\":\"white\",\"linecolor\":\"white\",\"ticks\":\"\",\"title\":{\"standoff\":15},\"zerolinecolor\":\"white\",\"automargin\":true,\"zerolinewidth\":2},\"scene\":{\"xaxis\":{\"backgroundcolor\":\"#E5ECF6\",\"gridcolor\":\"white\",\"linecolor\":\"white\",\"showbackground\":true,\"ticks\":\"\",\"zerolinecolor\":\"white\",\"gridwidth\":2},\"yaxis\":{\"backgroundcolor\":\"#E5ECF6\",\"gridcolor\":\"white\",\"linecolor\":\"white\",\"showbackground\":true,\"ticks\":\"\",\"zerolinecolor\":\"white\",\"gridwidth\":2},\"zaxis\":{\"backgroundcolor\":\"#E5ECF6\",\"gridcolor\":\"white\",\"linecolor\":\"white\",\"showbackground\":true,\"ticks\":\"\",\"zerolinecolor\":\"white\",\"gridwidth\":2}},\"shapedefaults\":{\"line\":{\"color\":\"#2a3f5f\"}},\"annotationdefaults\":{\"arrowcolor\":\"#2a3f5f\",\"arrowhead\":0,\"arrowwidth\":1},\"geo\":{\"bgcolor\":\"white\",\"landcolor\":\"#E5ECF6\",\"subunitcolor\":\"white\",\"showland\":true,\"showlakes\":true,\"lakecolor\":\"white\"},\"title\":{\"x\":0.05},\"mapbox\":{\"style\":\"light\"}}},\"xaxis\":{\"anchor\":\"y\",\"domain\":[0.0,1.0],\"title\":{\"text\":\"Funding\"}},\"yaxis\":{\"anchor\":\"x\",\"domain\":[0.0,1.0],\"title\":{\"text\":\"value\"}},\"legend\":{\"title\":{\"text\":\"variable\"},\"tracegroupgap\":0},\"margin\":{\"t\":60}},                        {\"responsive\": true}                    ).then(function(){\n",
       "                            \n",
       "var gd = document.getElementById('f968d84b-71c3-4f5b-b278-a136194d6817');\n",
       "var x = new MutationObserver(function (mutations, observer) {{\n",
       "        var display = window.getComputedStyle(gd).display;\n",
       "        if (!display || display === 'none') {{\n",
       "            console.log([gd, 'removed!']);\n",
       "            Plotly.purge(gd);\n",
       "            observer.disconnect();\n",
       "        }}\n",
       "}});\n",
       "\n",
       "// Listen for the removal of the full notebook cells\n",
       "var notebookContainer = gd.closest('#notebook-container');\n",
       "if (notebookContainer) {{\n",
       "    x.observe(notebookContainer, {childList: true});\n",
       "}}\n",
       "\n",
       "// Listen for the clearing of the current output cell\n",
       "var outputEl = gd.closest('.output');\n",
       "if (outputEl) {{\n",
       "    x.observe(outputEl, {childList: true});\n",
       "}}\n",
       "\n",
       "                        })                };                });            </script>        </div>"
      ]
     },
     "metadata": {},
     "output_type": "display_data"
    }
   ],
   "source": [
    "px.scatter(group)"
   ]
  },
  {
   "cell_type": "code",
   "execution_count": 28,
   "id": "85320073",
   "metadata": {
    "execution": {
     "iopub.execute_input": "2022-04-21T18:21:40.130049Z",
     "iopub.status.busy": "2022-04-21T18:21:40.129746Z",
     "iopub.status.idle": "2022-04-21T18:21:40.194057Z",
     "shell.execute_reply": "2022-04-21T18:21:40.193297Z"
    },
    "id": "60LIcAxgSdOo",
    "outputId": "0bf73009-31a7-418e-ed74-7a3433adeaa2",
    "papermill": {
     "duration": 0.101841,
     "end_time": "2022-04-21T18:21:40.195856",
     "exception": false,
     "start_time": "2022-04-21T18:21:40.094015",
     "status": "completed"
    },
    "tags": []
   },
   "outputs": [
    {
     "data": {
      "text/html": [
       "<div>                            <div id=\"d5e191b3-ddac-419e-82b6-0e1911016d70\" class=\"plotly-graph-div\" style=\"height:525px; width:100%;\"></div>            <script type=\"text/javascript\">                require([\"plotly\"], function(Plotly) {                    window.PLOTLYENV=window.PLOTLYENV || {};                                    if (document.getElementById(\"d5e191b3-ddac-419e-82b6-0e1911016d70\")) {                    Plotly.newPlot(                        \"d5e191b3-ddac-419e-82b6-0e1911016d70\",                        [{\"hovertemplate\":\"variable=Valuation<br>Funding=%{x}<br>value=%{y}<extra></extra>\",\"legendgroup\":\"Valuation\",\"line\":{\"color\":\"#636efa\",\"dash\":\"solid\"},\"marker\":{\"symbol\":\"circle\"},\"mode\":\"lines\",\"name\":\"Valuation\",\"orientation\":\"v\",\"showlegend\":true,\"x\":[0.0,0.01,0.014,0.015,0.017,0.019,0.029,0.033,0.043,0.045,0.051,0.052,0.053,0.054,0.06,0.062,0.064,0.067,0.07,0.071,0.075,0.079,0.08,0.086,0.09,0.091,0.092,0.093,0.094,0.096,0.098,0.1,0.101,0.102,0.105,0.107,0.109,0.11,0.111,0.114,0.115,0.116,0.118,0.119,0.12,0.121,0.124,0.125,0.126,0.127,0.128,0.129,0.13,0.131,0.132,0.134,0.135,0.136,0.137,0.139,0.14,0.141,0.142,0.143,0.144,0.145,0.147,0.148,0.149,0.15,0.151,0.152,0.154,0.156,0.157,0.16,0.161,0.163,0.164,0.165,0.166,0.167,0.169,0.17,0.171,0.172,0.173,0.174,0.177,0.178,0.179,0.18,0.181,0.182,0.183,0.185,0.186,0.187,0.188,0.189,0.19,0.191,0.192,0.193,0.194,0.195,0.196,0.197,0.2,0.201,0.202,0.203,0.204,0.205,0.206,0.207,0.209,0.21,0.211,0.214,0.215,0.216,0.217,0.218,0.219,0.22,0.221,0.222,0.223,0.224,0.225,0.226,0.227,0.228,0.229,0.23,0.231,0.232,0.233,0.235,0.236,0.237,0.238,0.239,0.24,0.241,0.243,0.245,0.246,0.247,0.248,0.249,0.25,0.251,0.252,0.253,0.254,0.255,0.257,0.258,0.259,0.26,0.261,0.262,0.263,0.264,0.265,0.266,0.267,0.268,0.269,0.271,0.273,0.274,0.275,0.276,0.277,0.279,0.28,0.281,0.282,0.283,0.284,0.285,0.286,0.287,0.288,0.289,0.291,0.292,0.293,0.294,0.295,0.296,0.297,0.298,0.299,0.3,0.301,0.302,0.303,0.304,0.305,0.306,0.307,0.308,0.309,0.31,0.311,0.313,0.314,0.315,0.317,0.318,0.32,0.323,0.324,0.325,0.326,0.328,0.329,0.33,0.331,0.333,0.334,0.335,0.336,0.337,0.339,0.34,0.341,0.342,0.343,0.344,0.345,0.346,0.347,0.349,0.35,0.351,0.352,0.356,0.357,0.358,0.359,0.36,0.361,0.362,0.364,0.365,0.366,0.367,0.368,0.369,0.37,0.371,0.373,0.374,0.376,0.378,0.379,0.38,0.381,0.382,0.384,0.386,0.388,0.389,0.39,0.391,0.393,0.394,0.395,0.396,0.397,0.398,0.399,0.4,0.401,0.402,0.403,0.404,0.405,0.406,0.407,0.408,0.41,0.412,0.413,0.414,0.415,0.416,0.417,0.418,0.419,0.421,0.422,0.423,0.424,0.425,0.426,0.427,0.428,0.43,0.431,0.432,0.433,0.434,0.435,0.436,0.438,0.439,0.44,0.441,0.445,0.447,0.448,0.449,0.45,0.456,0.458,0.46,0.461,0.462,0.463,0.465,0.466,0.468,0.471,0.472,0.474,0.475,0.476,0.477,0.482,0.483,0.484,0.487,0.489,0.49,0.492,0.493,0.495,0.496,0.497,0.498,0.5,0.503,0.504,0.505,0.507,0.509,0.511,0.514,0.515,0.516,0.517,0.52,0.521,0.523,0.524,0.525,0.526,0.527,0.529,0.531,0.532,0.534,0.535,0.536,0.538,0.542,0.543,0.544,0.545,0.546,0.547,0.549,0.55,0.551,0.553,0.554,0.555,0.556,0.557,0.558,0.559,0.562,0.564,0.566,0.567,0.568,0.569,0.57,0.572,0.573,0.577,0.582,0.583,0.585,0.587,0.588,0.591,0.592,0.593,0.594,0.595,0.596,0.599,0.6,0.603,0.607,0.61,0.612,0.614,0.62,0.623,0.624,0.628,0.629,0.632,0.633,0.634,0.64,0.643,0.644,0.645,0.647,0.65,0.655,0.656,0.657,0.658,0.66,0.663,0.664,0.665,0.666,0.667,0.676,0.679,0.682,0.685,0.691,0.696,0.697,0.698,0.7,0.704,0.706,0.71,0.711,0.714,0.717,0.719,0.72,0.721,0.722,0.728,0.729,0.73,0.734,0.738,0.739,0.742,0.744,0.754,0.755,0.761,0.765,0.766,0.768,0.77,0.775,0.776,0.777,0.786,0.787,0.788,0.789,0.791,0.792,0.799,0.8,0.802,0.803,0.812,0.815,0.818,0.82,0.824,0.826,0.828,0.844,0.849,0.856,0.859,0.861,0.863,0.864,0.869,0.87,0.871,0.875,0.88,0.881,0.891,0.902,0.903,0.91,0.912,0.918,0.919,0.92,0.922,0.926,0.928,0.943,0.946,0.947,0.948,0.95,0.975,0.979,0.987,0.99,0.996,0.999,1.0,2.0,3.0,4.0,5.0,7.0,8.0,9.0],\"xaxis\":\"x\",\"y\":[4.0,1.0,19.5,1.0,1.0,2.0,2.0,1.0,1.0,1.3333333333333333,1.0,1.0,1.0,3.0,1.0,1.0,1.0,1.0,1.0,5.5,3.0,1.0,1.0,1.0,1.5,1.0,1.0,1.0,1.0,1.5,1.0,1.4,2.0,1.0,3.3333333333333335,1.0,1.0,2.5,1.0,1.0,1.5,1.0,1.0,3.0,1.3333333333333333,2.0,1.0,2.5,1.0,1.3333333333333333,1.75,2.0,1.0,1.0,1.0,1.0,1.0,1.0,1.5,1.5,1.0,1.0,2.0,1.0,1.0,1.0,2.0,1.6666666666666667,1.0,1.5,1.2,1.6666666666666667,1.6666666666666667,1.0,1.0,1.0,1.3333333333333333,1.0,1.0,1.0,1.0,1.0,1.0,1.6666666666666667,1.0,1.25,1.0,1.0,1.5,1.0,2.0,3.0,1.3333333333333333,1.0,1.5,1.0,1.5,2.5,1.3333333333333333,1.0,1.6666666666666667,1.0,1.4,1.5,1.0,1.6666666666666667,1.0,1.0,1.4166666666666667,1.0,1.25,2.0,2.0,1.0,1.0,1.0,1.0,1.25,1.3333333333333333,1.0,1.0,3.0,1.3333333333333333,1.6,2.0,1.0,1.3333333333333333,2.0,1.0,1.5,2.25,1.3333333333333333,1.0,1.0,1.5,2.0,1.5,1.0,2.0,1.0,1.3333333333333333,1.3333333333333333,1.0,1.0,1.6,1.0,1.0,1.5,1.0,1.0,3.0,1.0,2.0,2.0,1.0,1.6666666666666667,1.0,1.5,1.3333333333333333,1.0,1.5,1.0,2.0,1.0,2.5,1.0,1.0,2.0,1.0,1.5,1.0,1.0,1.0,2.0,2.0,1.0,1.5,1.0,3.0,1.3333333333333333,1.5,1.0,1.0,1.6666666666666667,3.0,1.5,1.0,2.0,1.0,1.0,1.5,3.4,2.0,2.0,7.0,2.0,1.8,1.4,2.0,1.5,1.0,1.0,1.6666666666666667,1.0,1.0,1.0,1.0,1.2,2.5,3.0,1.8,1.5,1.0,1.0,2.0,1.0,2.5,1.2,2.0,1.6666666666666667,2.0,1.5,1.5,4.666666666666667,2.5,2.5,1.0,1.0,2.0,1.5,2.0,2.0,10.0,1.0,1.5,1.0,1.0,2.0,2.5,2.5,1.75,2.0,3.0,2.0,1.0,3.0,1.0,1.0,2.0,1.6666666666666667,3.0,4.0,1.0,1.0,1.6666666666666667,2.6666666666666665,2.0,2.0,4.666666666666667,1.5,2.6666666666666665,1.5,2.5,1.0,1.0,2.0,1.0,1.0,1.5,1.0,2.0,1.0,3.0,1.0,2.0,3.0,2.0,7.5,2.0,2.0,1.6666666666666667,2.5,6.0,1.0,2.3333333333333335,1.75,2.0,6.0,4.0,3.5,6.0,1.0,2.3333333333333335,3.0,2.5,2.0,2.0,2.0,4.0,5.0,3.0,5.666666666666667,5.0,1.0,2.0,1.5,3.0,3.0,2.6666666666666665,1.0,2.0,1.0,2.5,2.0,3.0,7.0,3.0,1.5,2.5,1.5,1.0,1.0,3.0,5.0,1.0,3.0,2.0,3.5,3.0,2.0,2.5,2.0,18.0,3.0,1.0,3.0,1.0,2.5,2.5,14.0,3.0,4.0,4.0,2.25,5.666666666666667,3.0,3.0,3.0,2.5,4.0,2.25,1.5,1.0,5.0,1.0,1.0,2.0,1.0,1.0,2.5,3.5,2.5,1.0,2.0,2.0,3.0,2.0,1.0,3.5,2.0,1.5,3.0,3.0,2.0,1.5,4.0,1.0,4.5,2.0,3.0,4.0,1.0,4.0,2.0,2.0,7.0,5.0,5.0,10.0,2.0,5.0,2.0,2.0,1.5,17.0,1.0,2.0,3.0,5.0,1.0,4.0,1.0,3.0,1.0,2.0,1.5,1.0,5.0,3.5,3.3333333333333335,5.5,5.5,1.0,2.5,3.0,1.0,1.0,2.0,3.0,6.0,1.0,3.0,2.0,2.0,4.0,5.0,6.0,5.0,1.0,3.0,1.0,4.0,1.5,4.75,2.0,4.0,2.0,3.0,4.0,2.0,9.0,2.0,2.0,7.5,2.0,1.0,3.0,1.0,5.0,3.0,2.0,3.0,3.0,2.0,2.0,2.5,15.0,2.3333333333333335,6.0,6.0,3.0,9.0,1.0,4.0,8.0,2.0,2.0,3.5,4.5,12.0,2.0,2.0,9.0,5.0,4.0,3.0,2.0,1.0,3.0,3.0,2.0,2.25,12.0,3.75,6.0,6.0,3.0,6.0,3.0,8.0,5.0,6.0,2.0,7.0,7.0,4.0,3.0,2.0,7.0,4.0,5.0,4.0,1.0,1.0,3.0,4.0,6.0,2.0,5.0,3.5,7.0,20.0,3.0,7.0,7.0,5.0,6.0,5.0,2.0,1.0,4.0,2.0,2.5,15.0,3.0,1.0,5.0,3.0,5.278688524590164,16.0,17.142857142857142,17.555555555555557,13.5,66.0,180.0,1.0],\"yaxis\":\"y\",\"type\":\"scatter\"}],                        {\"template\":{\"data\":{\"histogram2dcontour\":[{\"type\":\"histogram2dcontour\",\"colorbar\":{\"outlinewidth\":0,\"ticks\":\"\"},\"colorscale\":[[0.0,\"#0d0887\"],[0.1111111111111111,\"#46039f\"],[0.2222222222222222,\"#7201a8\"],[0.3333333333333333,\"#9c179e\"],[0.4444444444444444,\"#bd3786\"],[0.5555555555555556,\"#d8576b\"],[0.6666666666666666,\"#ed7953\"],[0.7777777777777778,\"#fb9f3a\"],[0.8888888888888888,\"#fdca26\"],[1.0,\"#f0f921\"]]}],\"choropleth\":[{\"type\":\"choropleth\",\"colorbar\":{\"outlinewidth\":0,\"ticks\":\"\"}}],\"histogram2d\":[{\"type\":\"histogram2d\",\"colorbar\":{\"outlinewidth\":0,\"ticks\":\"\"},\"colorscale\":[[0.0,\"#0d0887\"],[0.1111111111111111,\"#46039f\"],[0.2222222222222222,\"#7201a8\"],[0.3333333333333333,\"#9c179e\"],[0.4444444444444444,\"#bd3786\"],[0.5555555555555556,\"#d8576b\"],[0.6666666666666666,\"#ed7953\"],[0.7777777777777778,\"#fb9f3a\"],[0.8888888888888888,\"#fdca26\"],[1.0,\"#f0f921\"]]}],\"heatmap\":[{\"type\":\"heatmap\",\"colorbar\":{\"outlinewidth\":0,\"ticks\":\"\"},\"colorscale\":[[0.0,\"#0d0887\"],[0.1111111111111111,\"#46039f\"],[0.2222222222222222,\"#7201a8\"],[0.3333333333333333,\"#9c179e\"],[0.4444444444444444,\"#bd3786\"],[0.5555555555555556,\"#d8576b\"],[0.6666666666666666,\"#ed7953\"],[0.7777777777777778,\"#fb9f3a\"],[0.8888888888888888,\"#fdca26\"],[1.0,\"#f0f921\"]]}],\"heatmapgl\":[{\"type\":\"heatmapgl\",\"colorbar\":{\"outlinewidth\":0,\"ticks\":\"\"},\"colorscale\":[[0.0,\"#0d0887\"],[0.1111111111111111,\"#46039f\"],[0.2222222222222222,\"#7201a8\"],[0.3333333333333333,\"#9c179e\"],[0.4444444444444444,\"#bd3786\"],[0.5555555555555556,\"#d8576b\"],[0.6666666666666666,\"#ed7953\"],[0.7777777777777778,\"#fb9f3a\"],[0.8888888888888888,\"#fdca26\"],[1.0,\"#f0f921\"]]}],\"contourcarpet\":[{\"type\":\"contourcarpet\",\"colorbar\":{\"outlinewidth\":0,\"ticks\":\"\"}}],\"contour\":[{\"type\":\"contour\",\"colorbar\":{\"outlinewidth\":0,\"ticks\":\"\"},\"colorscale\":[[0.0,\"#0d0887\"],[0.1111111111111111,\"#46039f\"],[0.2222222222222222,\"#7201a8\"],[0.3333333333333333,\"#9c179e\"],[0.4444444444444444,\"#bd3786\"],[0.5555555555555556,\"#d8576b\"],[0.6666666666666666,\"#ed7953\"],[0.7777777777777778,\"#fb9f3a\"],[0.8888888888888888,\"#fdca26\"],[1.0,\"#f0f921\"]]}],\"surface\":[{\"type\":\"surface\",\"colorbar\":{\"outlinewidth\":0,\"ticks\":\"\"},\"colorscale\":[[0.0,\"#0d0887\"],[0.1111111111111111,\"#46039f\"],[0.2222222222222222,\"#7201a8\"],[0.3333333333333333,\"#9c179e\"],[0.4444444444444444,\"#bd3786\"],[0.5555555555555556,\"#d8576b\"],[0.6666666666666666,\"#ed7953\"],[0.7777777777777778,\"#fb9f3a\"],[0.8888888888888888,\"#fdca26\"],[1.0,\"#f0f921\"]]}],\"mesh3d\":[{\"type\":\"mesh3d\",\"colorbar\":{\"outlinewidth\":0,\"ticks\":\"\"}}],\"scatter\":[{\"fillpattern\":{\"fillmode\":\"overlay\",\"size\":10,\"solidity\":0.2},\"type\":\"scatter\"}],\"parcoords\":[{\"type\":\"parcoords\",\"line\":{\"colorbar\":{\"outlinewidth\":0,\"ticks\":\"\"}}}],\"scatterpolargl\":[{\"type\":\"scatterpolargl\",\"marker\":{\"colorbar\":{\"outlinewidth\":0,\"ticks\":\"\"}}}],\"bar\":[{\"error_x\":{\"color\":\"#2a3f5f\"},\"error_y\":{\"color\":\"#2a3f5f\"},\"marker\":{\"line\":{\"color\":\"#E5ECF6\",\"width\":0.5},\"pattern\":{\"fillmode\":\"overlay\",\"size\":10,\"solidity\":0.2}},\"type\":\"bar\"}],\"scattergeo\":[{\"type\":\"scattergeo\",\"marker\":{\"colorbar\":{\"outlinewidth\":0,\"ticks\":\"\"}}}],\"scatterpolar\":[{\"type\":\"scatterpolar\",\"marker\":{\"colorbar\":{\"outlinewidth\":0,\"ticks\":\"\"}}}],\"histogram\":[{\"marker\":{\"pattern\":{\"fillmode\":\"overlay\",\"size\":10,\"solidity\":0.2}},\"type\":\"histogram\"}],\"scattergl\":[{\"type\":\"scattergl\",\"marker\":{\"colorbar\":{\"outlinewidth\":0,\"ticks\":\"\"}}}],\"scatter3d\":[{\"type\":\"scatter3d\",\"line\":{\"colorbar\":{\"outlinewidth\":0,\"ticks\":\"\"}},\"marker\":{\"colorbar\":{\"outlinewidth\":0,\"ticks\":\"\"}}}],\"scattermapbox\":[{\"type\":\"scattermapbox\",\"marker\":{\"colorbar\":{\"outlinewidth\":0,\"ticks\":\"\"}}}],\"scatterternary\":[{\"type\":\"scatterternary\",\"marker\":{\"colorbar\":{\"outlinewidth\":0,\"ticks\":\"\"}}}],\"scattercarpet\":[{\"type\":\"scattercarpet\",\"marker\":{\"colorbar\":{\"outlinewidth\":0,\"ticks\":\"\"}}}],\"carpet\":[{\"aaxis\":{\"endlinecolor\":\"#2a3f5f\",\"gridcolor\":\"white\",\"linecolor\":\"white\",\"minorgridcolor\":\"white\",\"startlinecolor\":\"#2a3f5f\"},\"baxis\":{\"endlinecolor\":\"#2a3f5f\",\"gridcolor\":\"white\",\"linecolor\":\"white\",\"minorgridcolor\":\"white\",\"startlinecolor\":\"#2a3f5f\"},\"type\":\"carpet\"}],\"table\":[{\"cells\":{\"fill\":{\"color\":\"#EBF0F8\"},\"line\":{\"color\":\"white\"}},\"header\":{\"fill\":{\"color\":\"#C8D4E3\"},\"line\":{\"color\":\"white\"}},\"type\":\"table\"}],\"barpolar\":[{\"marker\":{\"line\":{\"color\":\"#E5ECF6\",\"width\":0.5},\"pattern\":{\"fillmode\":\"overlay\",\"size\":10,\"solidity\":0.2}},\"type\":\"barpolar\"}],\"pie\":[{\"automargin\":true,\"type\":\"pie\"}]},\"layout\":{\"autotypenumbers\":\"strict\",\"colorway\":[\"#636efa\",\"#EF553B\",\"#00cc96\",\"#ab63fa\",\"#FFA15A\",\"#19d3f3\",\"#FF6692\",\"#B6E880\",\"#FF97FF\",\"#FECB52\"],\"font\":{\"color\":\"#2a3f5f\"},\"hovermode\":\"closest\",\"hoverlabel\":{\"align\":\"left\"},\"paper_bgcolor\":\"white\",\"plot_bgcolor\":\"#E5ECF6\",\"polar\":{\"bgcolor\":\"#E5ECF6\",\"angularaxis\":{\"gridcolor\":\"white\",\"linecolor\":\"white\",\"ticks\":\"\"},\"radialaxis\":{\"gridcolor\":\"white\",\"linecolor\":\"white\",\"ticks\":\"\"}},\"ternary\":{\"bgcolor\":\"#E5ECF6\",\"aaxis\":{\"gridcolor\":\"white\",\"linecolor\":\"white\",\"ticks\":\"\"},\"baxis\":{\"gridcolor\":\"white\",\"linecolor\":\"white\",\"ticks\":\"\"},\"caxis\":{\"gridcolor\":\"white\",\"linecolor\":\"white\",\"ticks\":\"\"}},\"coloraxis\":{\"colorbar\":{\"outlinewidth\":0,\"ticks\":\"\"}},\"colorscale\":{\"sequential\":[[0.0,\"#0d0887\"],[0.1111111111111111,\"#46039f\"],[0.2222222222222222,\"#7201a8\"],[0.3333333333333333,\"#9c179e\"],[0.4444444444444444,\"#bd3786\"],[0.5555555555555556,\"#d8576b\"],[0.6666666666666666,\"#ed7953\"],[0.7777777777777778,\"#fb9f3a\"],[0.8888888888888888,\"#fdca26\"],[1.0,\"#f0f921\"]],\"sequentialminus\":[[0.0,\"#0d0887\"],[0.1111111111111111,\"#46039f\"],[0.2222222222222222,\"#7201a8\"],[0.3333333333333333,\"#9c179e\"],[0.4444444444444444,\"#bd3786\"],[0.5555555555555556,\"#d8576b\"],[0.6666666666666666,\"#ed7953\"],[0.7777777777777778,\"#fb9f3a\"],[0.8888888888888888,\"#fdca26\"],[1.0,\"#f0f921\"]],\"diverging\":[[0,\"#8e0152\"],[0.1,\"#c51b7d\"],[0.2,\"#de77ae\"],[0.3,\"#f1b6da\"],[0.4,\"#fde0ef\"],[0.5,\"#f7f7f7\"],[0.6,\"#e6f5d0\"],[0.7,\"#b8e186\"],[0.8,\"#7fbc41\"],[0.9,\"#4d9221\"],[1,\"#276419\"]]},\"xaxis\":{\"gridcolor\":\"white\",\"linecolor\":\"white\",\"ticks\":\"\",\"title\":{\"standoff\":15},\"zerolinecolor\":\"white\",\"automargin\":true,\"zerolinewidth\":2},\"yaxis\":{\"gridcolor\":\"white\",\"linecolor\":\"white\",\"ticks\":\"\",\"title\":{\"standoff\":15},\"zerolinecolor\":\"white\",\"automargin\":true,\"zerolinewidth\":2},\"scene\":{\"xaxis\":{\"backgroundcolor\":\"#E5ECF6\",\"gridcolor\":\"white\",\"linecolor\":\"white\",\"showbackground\":true,\"ticks\":\"\",\"zerolinecolor\":\"white\",\"gridwidth\":2},\"yaxis\":{\"backgroundcolor\":\"#E5ECF6\",\"gridcolor\":\"white\",\"linecolor\":\"white\",\"showbackground\":true,\"ticks\":\"\",\"zerolinecolor\":\"white\",\"gridwidth\":2},\"zaxis\":{\"backgroundcolor\":\"#E5ECF6\",\"gridcolor\":\"white\",\"linecolor\":\"white\",\"showbackground\":true,\"ticks\":\"\",\"zerolinecolor\":\"white\",\"gridwidth\":2}},\"shapedefaults\":{\"line\":{\"color\":\"#2a3f5f\"}},\"annotationdefaults\":{\"arrowcolor\":\"#2a3f5f\",\"arrowhead\":0,\"arrowwidth\":1},\"geo\":{\"bgcolor\":\"white\",\"landcolor\":\"#E5ECF6\",\"subunitcolor\":\"white\",\"showland\":true,\"showlakes\":true,\"lakecolor\":\"white\"},\"title\":{\"x\":0.05},\"mapbox\":{\"style\":\"light\"}}},\"xaxis\":{\"anchor\":\"y\",\"domain\":[0.0,1.0],\"title\":{\"text\":\"Funding\"}},\"yaxis\":{\"anchor\":\"x\",\"domain\":[0.0,1.0],\"title\":{\"text\":\"value\"}},\"legend\":{\"title\":{\"text\":\"variable\"},\"tracegroupgap\":0},\"margin\":{\"t\":60}},                        {\"responsive\": true}                    ).then(function(){\n",
       "                            \n",
       "var gd = document.getElementById('d5e191b3-ddac-419e-82b6-0e1911016d70');\n",
       "var x = new MutationObserver(function (mutations, observer) {{\n",
       "        var display = window.getComputedStyle(gd).display;\n",
       "        if (!display || display === 'none') {{\n",
       "            console.log([gd, 'removed!']);\n",
       "            Plotly.purge(gd);\n",
       "            observer.disconnect();\n",
       "        }}\n",
       "}});\n",
       "\n",
       "// Listen for the removal of the full notebook cells\n",
       "var notebookContainer = gd.closest('#notebook-container');\n",
       "if (notebookContainer) {{\n",
       "    x.observe(notebookContainer, {childList: true});\n",
       "}}\n",
       "\n",
       "// Listen for the clearing of the current output cell\n",
       "var outputEl = gd.closest('.output');\n",
       "if (outputEl) {{\n",
       "    x.observe(outputEl, {childList: true});\n",
       "}}\n",
       "\n",
       "                        })                };                });            </script>        </div>"
      ]
     },
     "metadata": {},
     "output_type": "display_data"
    }
   ],
   "source": [
    "px.line(group)"
   ]
  },
  {
   "cell_type": "code",
   "execution_count": 29,
   "id": "a6b33c51",
   "metadata": {
    "execution": {
     "iopub.execute_input": "2022-04-21T18:21:40.266462Z",
     "iopub.status.busy": "2022-04-21T18:21:40.266159Z",
     "iopub.status.idle": "2022-04-21T18:21:40.281744Z",
     "shell.execute_reply": "2022-04-21T18:21:40.280952Z"
    },
    "papermill": {
     "duration": 0.053083,
     "end_time": "2022-04-21T18:21:40.283552",
     "exception": false,
     "start_time": "2022-04-21T18:21:40.230469",
     "status": "completed"
    },
    "tags": []
   },
   "outputs": [
    {
     "data": {
      "text/html": [
       "<div>\n",
       "<style scoped>\n",
       "    .dataframe tbody tr th:only-of-type {\n",
       "        vertical-align: middle;\n",
       "    }\n",
       "\n",
       "    .dataframe tbody tr th {\n",
       "        vertical-align: top;\n",
       "    }\n",
       "\n",
       "    .dataframe thead th {\n",
       "        text-align: right;\n",
       "    }\n",
       "</style>\n",
       "<table border=\"1\" class=\"dataframe\">\n",
       "  <thead>\n",
       "    <tr style=\"text-align: right;\">\n",
       "      <th></th>\n",
       "      <th>Company</th>\n",
       "      <th>Valuation</th>\n",
       "      <th>Date_Joined</th>\n",
       "      <th>Industry</th>\n",
       "      <th>City</th>\n",
       "      <th>Country</th>\n",
       "      <th>Continent</th>\n",
       "      <th>Year_Founded</th>\n",
       "      <th>Funding</th>\n",
       "      <th>Select_Investors</th>\n",
       "    </tr>\n",
       "  </thead>\n",
       "  <tbody>\n",
       "    <tr>\n",
       "      <th>0</th>\n",
       "      <td>Bytedance</td>\n",
       "      <td>180.0</td>\n",
       "      <td>2017-04-07</td>\n",
       "      <td>Artificial Intelligence</td>\n",
       "      <td>Beijing</td>\n",
       "      <td>China</td>\n",
       "      <td>Asia</td>\n",
       "      <td>1970-01-01 00:00:00.000002012</td>\n",
       "      <td>8.0</td>\n",
       "      <td>Sequoia Capital China, SIG Asia Investments, S...</td>\n",
       "    </tr>\n",
       "    <tr>\n",
       "      <th>1</th>\n",
       "      <td>SpaceX</td>\n",
       "      <td>100.0</td>\n",
       "      <td>2012-12-01</td>\n",
       "      <td>Other</td>\n",
       "      <td>Hawthorne</td>\n",
       "      <td>United States</td>\n",
       "      <td>North America</td>\n",
       "      <td>1970-01-01 00:00:00.000002002</td>\n",
       "      <td>7.0</td>\n",
       "      <td>Founders Fund, Draper Fisher Jurvetson, Rothen...</td>\n",
       "    </tr>\n",
       "    <tr>\n",
       "      <th>2</th>\n",
       "      <td>SHEIN</td>\n",
       "      <td>100.0</td>\n",
       "      <td>2018-07-03</td>\n",
       "      <td>E-Commerce &amp; Direct-To-Consumer</td>\n",
       "      <td>Shenzhen</td>\n",
       "      <td>China</td>\n",
       "      <td>Asia</td>\n",
       "      <td>1970-01-01 00:00:00.000002008</td>\n",
       "      <td>2.0</td>\n",
       "      <td>Tiger Global Management, Sequoia Capital China...</td>\n",
       "    </tr>\n",
       "    <tr>\n",
       "      <th>3</th>\n",
       "      <td>Stripe</td>\n",
       "      <td>95.0</td>\n",
       "      <td>2014-01-23</td>\n",
       "      <td>Fintech</td>\n",
       "      <td>San Francisco</td>\n",
       "      <td>United States</td>\n",
       "      <td>North America</td>\n",
       "      <td>1970-01-01 00:00:00.000002010</td>\n",
       "      <td>2.0</td>\n",
       "      <td>Khosla Ventures, LowercaseCapital, capitalG</td>\n",
       "    </tr>\n",
       "    <tr>\n",
       "      <th>4</th>\n",
       "      <td>Klarna</td>\n",
       "      <td>46.0</td>\n",
       "      <td>2011-12-12</td>\n",
       "      <td>Fintech</td>\n",
       "      <td>Stockholm</td>\n",
       "      <td>Sweden</td>\n",
       "      <td>Europe</td>\n",
       "      <td>1970-01-01 00:00:00.000002005</td>\n",
       "      <td>4.0</td>\n",
       "      <td>Institutional Venture Partners, Sequoia Capita...</td>\n",
       "    </tr>\n",
       "  </tbody>\n",
       "</table>\n",
       "</div>"
      ],
      "text/plain": [
       "     Company  Valuation Date_Joined                         Industry  \\\n",
       "0  Bytedance      180.0  2017-04-07          Artificial Intelligence   \n",
       "1     SpaceX      100.0  2012-12-01                            Other   \n",
       "2      SHEIN      100.0  2018-07-03  E-Commerce & Direct-To-Consumer   \n",
       "3     Stripe       95.0  2014-01-23                          Fintech   \n",
       "4     Klarna       46.0  2011-12-12                          Fintech   \n",
       "\n",
       "            City        Country      Continent                  Year_Founded  \\\n",
       "0        Beijing          China           Asia 1970-01-01 00:00:00.000002012   \n",
       "1      Hawthorne  United States  North America 1970-01-01 00:00:00.000002002   \n",
       "2       Shenzhen          China           Asia 1970-01-01 00:00:00.000002008   \n",
       "3  San Francisco  United States  North America 1970-01-01 00:00:00.000002010   \n",
       "4      Stockholm         Sweden         Europe 1970-01-01 00:00:00.000002005   \n",
       "\n",
       "   Funding                                   Select_Investors  \n",
       "0      8.0  Sequoia Capital China, SIG Asia Investments, S...  \n",
       "1      7.0  Founders Fund, Draper Fisher Jurvetson, Rothen...  \n",
       "2      2.0  Tiger Global Management, Sequoia Capital China...  \n",
       "3      2.0        Khosla Ventures, LowercaseCapital, capitalG  \n",
       "4      4.0  Institutional Venture Partners, Sequoia Capita...  "
      ]
     },
     "execution_count": 29,
     "metadata": {},
     "output_type": "execute_result"
    }
   ],
   "source": [
    "uc.head()"
   ]
  },
  {
   "cell_type": "code",
   "execution_count": 30,
   "id": "3464e1eb",
   "metadata": {
    "execution": {
     "iopub.execute_input": "2022-04-21T18:21:40.355128Z",
     "iopub.status.busy": "2022-04-21T18:21:40.354697Z",
     "iopub.status.idle": "2022-04-21T18:21:40.359158Z",
     "shell.execute_reply": "2022-04-21T18:21:40.358584Z"
    },
    "papermill": {
     "duration": 0.042438,
     "end_time": "2022-04-21T18:21:40.360941",
     "exception": false,
     "start_time": "2022-04-21T18:21:40.318503",
     "status": "completed"
    },
    "tags": []
   },
   "outputs": [],
   "source": [
    "eval_per_continent = uc.groupby(\"Continent\")['Valuation'].sum()"
   ]
  },
  {
   "cell_type": "code",
   "execution_count": 31,
   "id": "9b224acb",
   "metadata": {
    "execution": {
     "iopub.execute_input": "2022-04-21T18:21:40.431900Z",
     "iopub.status.busy": "2022-04-21T18:21:40.431624Z",
     "iopub.status.idle": "2022-04-21T18:21:40.491714Z",
     "shell.execute_reply": "2022-04-21T18:21:40.490898Z"
    },
    "id": "LSGuryKIw8mM",
    "papermill": {
     "duration": 0.097953,
     "end_time": "2022-04-21T18:21:40.493708",
     "exception": false,
     "start_time": "2022-04-21T18:21:40.395755",
     "status": "completed"
    },
    "tags": []
   },
   "outputs": [
    {
     "data": {
      "text/html": [
       "<div>                            <div id=\"32369ac4-232a-400e-b983-499fe7ca2e06\" class=\"plotly-graph-div\" style=\"height:525px; width:100%;\"></div>            <script type=\"text/javascript\">                require([\"plotly\"], function(Plotly) {                    window.PLOTLYENV=window.PLOTLYENV || {};                                    if (document.getElementById(\"32369ac4-232a-400e-b983-499fe7ca2e06\")) {                    Plotly.newPlot(                        \"32369ac4-232a-400e-b983-499fe7ca2e06\",                        [{\"alignmentgroup\":\"True\",\"hovertemplate\":\"variable=Valuation<br>Continent=%{x}<br>value=%{y}<extra></extra>\",\"legendgroup\":\"Valuation\",\"marker\":{\"color\":\"#636efa\",\"pattern\":{\"shape\":\"\"}},\"name\":\"Valuation\",\"offsetgroup\":\"Valuation\",\"orientation\":\"v\",\"showlegend\":true,\"textposition\":\"auto\",\"x\":[\"Africa\",\"Asia\",\"Europe\",\"North America\",\"Oceania\",\"South America\"],\"xaxis\":\"x\",\"y\":[5.0,1067.0,503.0,2032.0,56.0,48.0],\"yaxis\":\"y\",\"type\":\"bar\"}],                        {\"template\":{\"data\":{\"histogram2dcontour\":[{\"type\":\"histogram2dcontour\",\"colorbar\":{\"outlinewidth\":0,\"ticks\":\"\"},\"colorscale\":[[0.0,\"#0d0887\"],[0.1111111111111111,\"#46039f\"],[0.2222222222222222,\"#7201a8\"],[0.3333333333333333,\"#9c179e\"],[0.4444444444444444,\"#bd3786\"],[0.5555555555555556,\"#d8576b\"],[0.6666666666666666,\"#ed7953\"],[0.7777777777777778,\"#fb9f3a\"],[0.8888888888888888,\"#fdca26\"],[1.0,\"#f0f921\"]]}],\"choropleth\":[{\"type\":\"choropleth\",\"colorbar\":{\"outlinewidth\":0,\"ticks\":\"\"}}],\"histogram2d\":[{\"type\":\"histogram2d\",\"colorbar\":{\"outlinewidth\":0,\"ticks\":\"\"},\"colorscale\":[[0.0,\"#0d0887\"],[0.1111111111111111,\"#46039f\"],[0.2222222222222222,\"#7201a8\"],[0.3333333333333333,\"#9c179e\"],[0.4444444444444444,\"#bd3786\"],[0.5555555555555556,\"#d8576b\"],[0.6666666666666666,\"#ed7953\"],[0.7777777777777778,\"#fb9f3a\"],[0.8888888888888888,\"#fdca26\"],[1.0,\"#f0f921\"]]}],\"heatmap\":[{\"type\":\"heatmap\",\"colorbar\":{\"outlinewidth\":0,\"ticks\":\"\"},\"colorscale\":[[0.0,\"#0d0887\"],[0.1111111111111111,\"#46039f\"],[0.2222222222222222,\"#7201a8\"],[0.3333333333333333,\"#9c179e\"],[0.4444444444444444,\"#bd3786\"],[0.5555555555555556,\"#d8576b\"],[0.6666666666666666,\"#ed7953\"],[0.7777777777777778,\"#fb9f3a\"],[0.8888888888888888,\"#fdca26\"],[1.0,\"#f0f921\"]]}],\"heatmapgl\":[{\"type\":\"heatmapgl\",\"colorbar\":{\"outlinewidth\":0,\"ticks\":\"\"},\"colorscale\":[[0.0,\"#0d0887\"],[0.1111111111111111,\"#46039f\"],[0.2222222222222222,\"#7201a8\"],[0.3333333333333333,\"#9c179e\"],[0.4444444444444444,\"#bd3786\"],[0.5555555555555556,\"#d8576b\"],[0.6666666666666666,\"#ed7953\"],[0.7777777777777778,\"#fb9f3a\"],[0.8888888888888888,\"#fdca26\"],[1.0,\"#f0f921\"]]}],\"contourcarpet\":[{\"type\":\"contourcarpet\",\"colorbar\":{\"outlinewidth\":0,\"ticks\":\"\"}}],\"contour\":[{\"type\":\"contour\",\"colorbar\":{\"outlinewidth\":0,\"ticks\":\"\"},\"colorscale\":[[0.0,\"#0d0887\"],[0.1111111111111111,\"#46039f\"],[0.2222222222222222,\"#7201a8\"],[0.3333333333333333,\"#9c179e\"],[0.4444444444444444,\"#bd3786\"],[0.5555555555555556,\"#d8576b\"],[0.6666666666666666,\"#ed7953\"],[0.7777777777777778,\"#fb9f3a\"],[0.8888888888888888,\"#fdca26\"],[1.0,\"#f0f921\"]]}],\"surface\":[{\"type\":\"surface\",\"colorbar\":{\"outlinewidth\":0,\"ticks\":\"\"},\"colorscale\":[[0.0,\"#0d0887\"],[0.1111111111111111,\"#46039f\"],[0.2222222222222222,\"#7201a8\"],[0.3333333333333333,\"#9c179e\"],[0.4444444444444444,\"#bd3786\"],[0.5555555555555556,\"#d8576b\"],[0.6666666666666666,\"#ed7953\"],[0.7777777777777778,\"#fb9f3a\"],[0.8888888888888888,\"#fdca26\"],[1.0,\"#f0f921\"]]}],\"mesh3d\":[{\"type\":\"mesh3d\",\"colorbar\":{\"outlinewidth\":0,\"ticks\":\"\"}}],\"scatter\":[{\"fillpattern\":{\"fillmode\":\"overlay\",\"size\":10,\"solidity\":0.2},\"type\":\"scatter\"}],\"parcoords\":[{\"type\":\"parcoords\",\"line\":{\"colorbar\":{\"outlinewidth\":0,\"ticks\":\"\"}}}],\"scatterpolargl\":[{\"type\":\"scatterpolargl\",\"marker\":{\"colorbar\":{\"outlinewidth\":0,\"ticks\":\"\"}}}],\"bar\":[{\"error_x\":{\"color\":\"#2a3f5f\"},\"error_y\":{\"color\":\"#2a3f5f\"},\"marker\":{\"line\":{\"color\":\"#E5ECF6\",\"width\":0.5},\"pattern\":{\"fillmode\":\"overlay\",\"size\":10,\"solidity\":0.2}},\"type\":\"bar\"}],\"scattergeo\":[{\"type\":\"scattergeo\",\"marker\":{\"colorbar\":{\"outlinewidth\":0,\"ticks\":\"\"}}}],\"scatterpolar\":[{\"type\":\"scatterpolar\",\"marker\":{\"colorbar\":{\"outlinewidth\":0,\"ticks\":\"\"}}}],\"histogram\":[{\"marker\":{\"pattern\":{\"fillmode\":\"overlay\",\"size\":10,\"solidity\":0.2}},\"type\":\"histogram\"}],\"scattergl\":[{\"type\":\"scattergl\",\"marker\":{\"colorbar\":{\"outlinewidth\":0,\"ticks\":\"\"}}}],\"scatter3d\":[{\"type\":\"scatter3d\",\"line\":{\"colorbar\":{\"outlinewidth\":0,\"ticks\":\"\"}},\"marker\":{\"colorbar\":{\"outlinewidth\":0,\"ticks\":\"\"}}}],\"scattermapbox\":[{\"type\":\"scattermapbox\",\"marker\":{\"colorbar\":{\"outlinewidth\":0,\"ticks\":\"\"}}}],\"scatterternary\":[{\"type\":\"scatterternary\",\"marker\":{\"colorbar\":{\"outlinewidth\":0,\"ticks\":\"\"}}}],\"scattercarpet\":[{\"type\":\"scattercarpet\",\"marker\":{\"colorbar\":{\"outlinewidth\":0,\"ticks\":\"\"}}}],\"carpet\":[{\"aaxis\":{\"endlinecolor\":\"#2a3f5f\",\"gridcolor\":\"white\",\"linecolor\":\"white\",\"minorgridcolor\":\"white\",\"startlinecolor\":\"#2a3f5f\"},\"baxis\":{\"endlinecolor\":\"#2a3f5f\",\"gridcolor\":\"white\",\"linecolor\":\"white\",\"minorgridcolor\":\"white\",\"startlinecolor\":\"#2a3f5f\"},\"type\":\"carpet\"}],\"table\":[{\"cells\":{\"fill\":{\"color\":\"#EBF0F8\"},\"line\":{\"color\":\"white\"}},\"header\":{\"fill\":{\"color\":\"#C8D4E3\"},\"line\":{\"color\":\"white\"}},\"type\":\"table\"}],\"barpolar\":[{\"marker\":{\"line\":{\"color\":\"#E5ECF6\",\"width\":0.5},\"pattern\":{\"fillmode\":\"overlay\",\"size\":10,\"solidity\":0.2}},\"type\":\"barpolar\"}],\"pie\":[{\"automargin\":true,\"type\":\"pie\"}]},\"layout\":{\"autotypenumbers\":\"strict\",\"colorway\":[\"#636efa\",\"#EF553B\",\"#00cc96\",\"#ab63fa\",\"#FFA15A\",\"#19d3f3\",\"#FF6692\",\"#B6E880\",\"#FF97FF\",\"#FECB52\"],\"font\":{\"color\":\"#2a3f5f\"},\"hovermode\":\"closest\",\"hoverlabel\":{\"align\":\"left\"},\"paper_bgcolor\":\"white\",\"plot_bgcolor\":\"#E5ECF6\",\"polar\":{\"bgcolor\":\"#E5ECF6\",\"angularaxis\":{\"gridcolor\":\"white\",\"linecolor\":\"white\",\"ticks\":\"\"},\"radialaxis\":{\"gridcolor\":\"white\",\"linecolor\":\"white\",\"ticks\":\"\"}},\"ternary\":{\"bgcolor\":\"#E5ECF6\",\"aaxis\":{\"gridcolor\":\"white\",\"linecolor\":\"white\",\"ticks\":\"\"},\"baxis\":{\"gridcolor\":\"white\",\"linecolor\":\"white\",\"ticks\":\"\"},\"caxis\":{\"gridcolor\":\"white\",\"linecolor\":\"white\",\"ticks\":\"\"}},\"coloraxis\":{\"colorbar\":{\"outlinewidth\":0,\"ticks\":\"\"}},\"colorscale\":{\"sequential\":[[0.0,\"#0d0887\"],[0.1111111111111111,\"#46039f\"],[0.2222222222222222,\"#7201a8\"],[0.3333333333333333,\"#9c179e\"],[0.4444444444444444,\"#bd3786\"],[0.5555555555555556,\"#d8576b\"],[0.6666666666666666,\"#ed7953\"],[0.7777777777777778,\"#fb9f3a\"],[0.8888888888888888,\"#fdca26\"],[1.0,\"#f0f921\"]],\"sequentialminus\":[[0.0,\"#0d0887\"],[0.1111111111111111,\"#46039f\"],[0.2222222222222222,\"#7201a8\"],[0.3333333333333333,\"#9c179e\"],[0.4444444444444444,\"#bd3786\"],[0.5555555555555556,\"#d8576b\"],[0.6666666666666666,\"#ed7953\"],[0.7777777777777778,\"#fb9f3a\"],[0.8888888888888888,\"#fdca26\"],[1.0,\"#f0f921\"]],\"diverging\":[[0,\"#8e0152\"],[0.1,\"#c51b7d\"],[0.2,\"#de77ae\"],[0.3,\"#f1b6da\"],[0.4,\"#fde0ef\"],[0.5,\"#f7f7f7\"],[0.6,\"#e6f5d0\"],[0.7,\"#b8e186\"],[0.8,\"#7fbc41\"],[0.9,\"#4d9221\"],[1,\"#276419\"]]},\"xaxis\":{\"gridcolor\":\"white\",\"linecolor\":\"white\",\"ticks\":\"\",\"title\":{\"standoff\":15},\"zerolinecolor\":\"white\",\"automargin\":true,\"zerolinewidth\":2},\"yaxis\":{\"gridcolor\":\"white\",\"linecolor\":\"white\",\"ticks\":\"\",\"title\":{\"standoff\":15},\"zerolinecolor\":\"white\",\"automargin\":true,\"zerolinewidth\":2},\"scene\":{\"xaxis\":{\"backgroundcolor\":\"#E5ECF6\",\"gridcolor\":\"white\",\"linecolor\":\"white\",\"showbackground\":true,\"ticks\":\"\",\"zerolinecolor\":\"white\",\"gridwidth\":2},\"yaxis\":{\"backgroundcolor\":\"#E5ECF6\",\"gridcolor\":\"white\",\"linecolor\":\"white\",\"showbackground\":true,\"ticks\":\"\",\"zerolinecolor\":\"white\",\"gridwidth\":2},\"zaxis\":{\"backgroundcolor\":\"#E5ECF6\",\"gridcolor\":\"white\",\"linecolor\":\"white\",\"showbackground\":true,\"ticks\":\"\",\"zerolinecolor\":\"white\",\"gridwidth\":2}},\"shapedefaults\":{\"line\":{\"color\":\"#2a3f5f\"}},\"annotationdefaults\":{\"arrowcolor\":\"#2a3f5f\",\"arrowhead\":0,\"arrowwidth\":1},\"geo\":{\"bgcolor\":\"white\",\"landcolor\":\"#E5ECF6\",\"subunitcolor\":\"white\",\"showland\":true,\"showlakes\":true,\"lakecolor\":\"white\"},\"title\":{\"x\":0.05},\"mapbox\":{\"style\":\"light\"}}},\"xaxis\":{\"anchor\":\"y\",\"domain\":[0.0,1.0],\"title\":{\"text\":\"Continent\"}},\"yaxis\":{\"anchor\":\"x\",\"domain\":[0.0,1.0],\"title\":{\"text\":\"value\"}},\"legend\":{\"title\":{\"text\":\"variable\"},\"tracegroupgap\":0},\"margin\":{\"t\":60},\"barmode\":\"relative\"},                        {\"responsive\": true}                    ).then(function(){\n",
       "                            \n",
       "var gd = document.getElementById('32369ac4-232a-400e-b983-499fe7ca2e06');\n",
       "var x = new MutationObserver(function (mutations, observer) {{\n",
       "        var display = window.getComputedStyle(gd).display;\n",
       "        if (!display || display === 'none') {{\n",
       "            console.log([gd, 'removed!']);\n",
       "            Plotly.purge(gd);\n",
       "            observer.disconnect();\n",
       "        }}\n",
       "}});\n",
       "\n",
       "// Listen for the removal of the full notebook cells\n",
       "var notebookContainer = gd.closest('#notebook-container');\n",
       "if (notebookContainer) {{\n",
       "    x.observe(notebookContainer, {childList: true});\n",
       "}}\n",
       "\n",
       "// Listen for the clearing of the current output cell\n",
       "var outputEl = gd.closest('.output');\n",
       "if (outputEl) {{\n",
       "    x.observe(outputEl, {childList: true});\n",
       "}}\n",
       "\n",
       "                        })                };                });            </script>        </div>"
      ]
     },
     "metadata": {},
     "output_type": "display_data"
    }
   ],
   "source": [
    "px.bar(eval_per_continent) # in trillion dollars "
   ]
  },
  {
   "cell_type": "code",
   "execution_count": null,
   "id": "ead978f1",
   "metadata": {
    "papermill": {
     "duration": 0.035016,
     "end_time": "2022-04-21T18:21:40.564164",
     "exception": false,
     "start_time": "2022-04-21T18:21:40.529148",
     "status": "completed"
    },
    "tags": []
   },
   "outputs": [],
   "source": []
  }
 ],
 "metadata": {
  "kernelspec": {
   "display_name": "Python 3",
   "language": "python",
   "name": "python3"
  },
  "language_info": {
   "codemirror_mode": {
    "name": "ipython",
    "version": 3
   },
   "file_extension": ".py",
   "mimetype": "text/x-python",
   "name": "python",
   "nbconvert_exporter": "python",
   "pygments_lexer": "ipython3",
   "version": "3.7.12"
  },
  "papermill": {
   "default_parameters": {},
   "duration": 15.350622,
   "end_time": "2022-04-21T18:21:41.419323",
   "environment_variables": {},
   "exception": null,
   "input_path": "__notebook__.ipynb",
   "output_path": "__notebook__.ipynb",
   "parameters": {},
   "start_time": "2022-04-21T18:21:26.068701",
   "version": "2.3.4"
  }
 },
 "nbformat": 4,
 "nbformat_minor": 5
}
